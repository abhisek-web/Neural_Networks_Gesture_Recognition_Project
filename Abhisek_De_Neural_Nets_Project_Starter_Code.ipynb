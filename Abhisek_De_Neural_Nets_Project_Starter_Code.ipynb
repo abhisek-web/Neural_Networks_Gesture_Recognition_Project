{
 "cells": [
  {
   "cell_type": "markdown",
   "metadata": {},
   "source": [
    "# Gesture Recognition\n",
    "In this group project, you are going to build a 3D Conv model that will be able to predict the 5 gestures correctly. Please import the following libraries to get started."
   ]
  },
  {
   "cell_type": "code",
   "execution_count": 22,
   "metadata": {},
   "outputs": [],
   "source": [
    "import numpy as np\n",
    "import scipy\n",
    "import os\n",
    "import imageio\n",
    "from imageio import imread\n",
    "from skimage.transform import resize\n",
    "#from scipy.misc import imresize\n",
    "#import imageio.imread\n",
    "import datetime\n",
    "import os\n",
    "import matplotlib.pyplot as plt\n",
    "%matplotlib inline"
   ]
  },
  {
   "cell_type": "markdown",
   "metadata": {},
   "source": [
    "We set the random seed so that the results don't vary drastically."
   ]
  },
  {
   "cell_type": "code",
   "execution_count": 3,
   "metadata": {},
   "outputs": [],
   "source": [
    "np.random.seed(30)\n",
    "import random as rn\n",
    "rn.seed(30)\n",
    "from keras import backend as K\n",
    "import tensorflow as tf\n",
    "tf.random.set_seed(30)"
   ]
  },
  {
   "cell_type": "code",
   "execution_count": 4,
   "metadata": {},
   "outputs": [
    {
     "name": "stdout",
     "output_type": "stream",
     "text": [
      "Found GPU at: /device:GPU:0\n"
     ]
    }
   ],
   "source": [
    "device_name = tf.test.gpu_device_name()\n",
    "if \"GPU\" not in device_name:\n",
    "    print(\"GPU device not found\")\n",
    "else:\n",
    "    print('Found GPU at: {}'.format(device_name))"
   ]
  },
  {
   "cell_type": "markdown",
   "metadata": {},
   "source": [
    "In this block, you read the folder names for training and validation. You also set the `batch_size` here. Note that you set the batch size in such a way that you are able to use the GPU in full capacity. You keep increasing the batch size until the machine throws an error."
   ]
  },
  {
   "cell_type": "code",
   "execution_count": 5,
   "metadata": {},
   "outputs": [],
   "source": [
    "train_doc = np.random.permutation(open(r'D:\\Upgrad Data Science PGDDS\\Course 4 Deep Learning\\Module 6 Deep Learning Case Study\\Project_data\\train.csv').readlines())\n",
    "val_doc = np.random.permutation(open(r'D:\\Upgrad Data Science PGDDS\\Course 4 Deep Learning\\Module 6 Deep Learning Case Study\\Project_data\\val.csv').readlines())\n",
    "batch_size = 20"
   ]
  },
  {
   "cell_type": "code",
   "execution_count": 6,
   "metadata": {},
   "outputs": [
    {
     "name": "stdout",
     "output_type": "stream",
     "text": [
      "Thu Sep 16 15:11:12 2021       \n",
      "+-----------------------------------------------------------------------------+\n",
      "| NVIDIA-SMI 471.68       Driver Version: 471.68       CUDA Version: 11.4     |\n",
      "|-------------------------------+----------------------+----------------------+\n",
      "| GPU  Name            TCC/WDDM | Bus-Id        Disp.A | Volatile Uncorr. ECC |\n",
      "| Fan  Temp  Perf  Pwr:Usage/Cap|         Memory-Usage | GPU-Util  Compute M. |\n",
      "|                               |                      |               MIG M. |\n",
      "|===============================+======================+======================|\n",
      "|   0  NVIDIA GeForce ... WDDM  | 00000000:06:00.0 Off |                  N/A |\n",
      "| N/A   54C    P0    N/A /  N/A |   1912MiB /  2048MiB |      0%      Default |\n",
      "|                               |                      |                  N/A |\n",
      "+-------------------------------+----------------------+----------------------+\n",
      "                                                                               \n",
      "+-----------------------------------------------------------------------------+\n",
      "| Processes:                                                                  |\n",
      "|  GPU   GI   CI        PID   Type   Process name                  GPU Memory |\n",
      "|        ID   ID                                                   Usage      |\n",
      "|=============================================================================|\n",
      "|    0   N/A  N/A     15960      C   ...onda3\\envs\\tf1\\python.exe    N/A      |\n",
      "|    0   N/A  N/A     24644      C   ...onda3\\envs\\tf1\\python.exe    N/A      |\n",
      "+-----------------------------------------------------------------------------+\n"
     ]
    }
   ],
   "source": [
    "#To check the GPU Usage\n",
    "!nvidia-smi"
   ]
  },
  {
   "cell_type": "markdown",
   "metadata": {},
   "source": [
    "## Generator\n",
    "This is one of the most important part of the code. The overall structure of the generator has been given. In the generator, you are going to preprocess the images as you have images of 2 different dimensions as well as create a batch of video frames. You have to experiment with `img_idx`, `y`,`z` and normalization such that you get high accuracy."
   ]
  },
  {
   "cell_type": "code",
   "execution_count": 7,
   "metadata": {},
   "outputs": [],
   "source": [
    "#Function to plot the model's validation and training loss and accuracy\n",
    "def plot(history):\n",
    "    fig, axes = plt.subplots(nrows=1, ncols=2, figsize=(15,4))\n",
    "    axes[0].plot(history.history.history['loss'])   \n",
    "    axes[0].plot(history.history.history['val_loss'])\n",
    "    axes[0].legend(['loss','val_loss'])\n",
    "\n",
    "    axes[1].plot(history.history.history['categorical_accuracy'])   \n",
    "    axes[1].plot(history.history.history['val_categorical_accuracy'])\n",
    "    axes[1].legend(['categorical_accuracy','val_categorical_accuracy'])"
   ]
  },
  {
   "cell_type": "code",
   "execution_count": 23,
   "metadata": {},
   "outputs": [],
   "source": [
    "def generator(source_path, folder_list, batch_size):\n",
    "    print( 'Source path = ', source_path, '; batch size =', batch_size)\n",
    "    img_idx = np.round(np.linspace(0,29,19)).astype(int)\n",
    "    while True:\n",
    "        t = np.random.permutation(folder_list)\n",
    "        num_batches = int(len(folder_list)/batch_size)\n",
    "        for batch in range(num_batches): # we iterate over the number of batches\n",
    "            batch_data = np.zeros((batch_size,len(img_idx),75,75,3)) # x is the number of images you use for each video, (y,z) is the final size of the input images and 3 is the number of channels RGB\n",
    "            batch_labels = np.zeros((batch_size,5)) # batch_labels is the one hot representation of the output\n",
    "            for folder in range(batch_size): # iterate over the batch_size\n",
    "                imgs = os.listdir(source_path+'/'+ t[folder + (batch*batch_size)].split(';')[0]) # read all the images in the folder\n",
    "                for idx,item in enumerate(img_idx): #  Iterate iver the frames/images of a folder to read them in\n",
    "                    image = imageio.imread(source_path+'/'+ t[folder + (batch*batch_size)].strip().split(';')[0]+'/'+imgs[item]).astype(np.float32)\n",
    "                    image=resize(image,(75,75))\n",
    "                    #crop the images and resize them. Note that the images are of 2 different shape \n",
    "                    #and the conv3D will throw error if the inputs in a batch have different shapes\n",
    "                    \n",
    "                    batch_data[folder,idx,:,:,0] = (image[:,:,0])/255\n",
    "                    batch_data[folder,idx,:,:,1] = (image[:,:,1])/255\n",
    "                    batch_data[folder,idx,:,:,2] = (image[:,:,2])/255\n",
    "                    \n",
    "                batch_labels[folder, int(t[folder + (batch*batch_size)].strip().split(';')[2])] = 1\n",
    "            yield batch_data, batch_labels #you yield the batch_data and the batch_labels, remember what does yield do\n",
    "\n",
    "        \n",
    "        # write the code for the remaining data points which are left after full batches\n",
    "        if len(folder_list)%batch_size != 0:\n",
    "            batch_size = len(folder_list)%batch_size\n",
    "            batch_data = np.zeros((batch_size,len(img_idx),75,75,3)) # x is the number of images you use for each video, (y,z) is the final size of the input images and 3 is the number of channels RGB\n",
    "            batch_labels = np.zeros((batch_size,5)) # batch_labels is the one hot representation of the output\n",
    "            for folder in range(batch_size): # iterate over the batch_size\n",
    "                imgs = os.listdir(source_path+'/'+ t[folder + (batch*batch_size)].split(';')[0]) # read all the images in the folder\n",
    "                for idx,item in enumerate(img_idx): #  Iterate iver the frames/images of a folder to read them in\n",
    "                    image = imageio.imread(source_path+'/'+ t[folder + (batch*batch_size)].strip().split(';')[0]+'/'+imgs[item]).astype(np.float32)\n",
    "                    image=resize(image,(75,75))\n",
    "                    #crop the images and resize them. Note that the images are of 2 different shape \n",
    "                    #and the conv3D will throw error if the inputs in a batch have different shapes\n",
    "                    \n",
    "                    batch_data[folder,idx,:,:,0] = (image[:,:,0])/255\n",
    "                    batch_data[folder,idx,:,:,1] = (image[:,:,1])/255\n",
    "                    batch_data[folder,idx,:,:,2] = (image[:,:,2])/255\n",
    "                    \n",
    "                batch_labels[folder, int(t[folder + (batch*batch_size)].strip().split(';')[2])] = 1\n",
    "            yield batch_data, batch_labels #you yield the batch_data and the batch_labels, remember what does yield do"
   ]
  },
  {
   "cell_type": "markdown",
   "metadata": {},
   "source": [
    "Note here that a video is represented above in the generator as (number of images, height, width, number of channels). Take this into consideration while creating the model architecture."
   ]
  },
  {
   "cell_type": "code",
   "execution_count": 24,
   "metadata": {},
   "outputs": [
    {
     "name": "stdout",
     "output_type": "stream",
     "text": [
      "# training sequences = 663\n",
      "# validation sequences = 100\n",
      "# epochs = 20\n"
     ]
    }
   ],
   "source": [
    "import datetime\n",
    "curr_dt_time = datetime.datetime.now()\n",
    "train_path = (r'D:\\Upgrad Data Science PGDDS\\Course 4 Deep Learning\\Module 6 Deep Learning Case Study\\Project_data\\train')\n",
    "val_path = (r'D:\\Upgrad Data Science PGDDS\\Course 4 Deep Learning\\Module 6 Deep Learning Case Study\\Project_data\\val')\n",
    "num_train_sequences = len(train_doc)\n",
    "print('# training sequences =', num_train_sequences)\n",
    "num_val_sequences = len(val_doc)\n",
    "print('# validation sequences =', num_val_sequences)\n",
    "num_epochs = 20\n",
    "print ('# epochs =', num_epochs)"
   ]
  },
  {
   "cell_type": "markdown",
   "metadata": {},
   "source": [
    "## Model\n",
    "Here you make the model using different functionalities that Keras provides. Remember to use `Conv3D` and `MaxPooling3D` and not `Conv2D` and `Maxpooling2D` for a 3D convolution model. You would want to use `TimeDistributed` while building a Conv2D + RNN model. Also remember that the last layer is the softmax. Design the network in such a way that the model is able to give good accuracy on the least number of parameters so that it can fit in the memory of the webcam."
   ]
  },
  {
   "cell_type": "markdown",
   "metadata": {},
   "source": [
    "## Conv3D Model(Base Model)"
   ]
  },
  {
   "cell_type": "code",
   "execution_count": 26,
   "metadata": {},
   "outputs": [],
   "source": [
    "from keras.models import Sequential, Model\n",
    "from keras.layers import Dense, GRU, Flatten, TimeDistributed, Flatten, BatchNormalization, Activation\n",
    "from keras.layers.convolutional import Conv3D, MaxPooling3D\n",
    "from keras.callbacks import ModelCheckpoint, ReduceLROnPlateau\n",
    "from keras import optimizers\n",
    "from keras.layers import Dense, Softmax, Dropout\n",
    "\n",
    "model_Conv3D = Sequential()\n",
    "model_Conv3D.add(Conv3D(16, (2, 2, 2),padding='same', input_shape=(19,75,75,3)))\n",
    "model_Conv3D.add(Activation('relu'))\n",
    "model_Conv3D.add(BatchNormalization())\n",
    "model_Conv3D.add(MaxPooling3D(pool_size=(2, 2, 2)))\n",
    "\n",
    "\n",
    "model_Conv3D.add(Conv3D(32, (2, 2, 2),padding='same'))\n",
    "model_Conv3D.add(Activation('relu'))\n",
    "model_Conv3D.add(BatchNormalization())\n",
    "model_Conv3D.add(MaxPooling3D(pool_size=(2, 2, 2)))\n",
    "\n",
    "model_Conv3D.add(Conv3D(64, (2, 2, 2),padding='same'))\n",
    "model_Conv3D.add(Activation('relu'))\n",
    "model_Conv3D.add(BatchNormalization())\n",
    "model_Conv3D.add(MaxPooling3D(pool_size=(2, 2, 2)))\n",
    "\n",
    "model_Conv3D.add(Flatten())\n",
    "model_Conv3D.add(Dense(128,activation='relu'))\n",
    "model_Conv3D.add(BatchNormalization())\n",
    "model_Conv3D.add(Dropout(0.2))\n",
    "\n",
    "model_Conv3D.add(Dense(64,activation='relu'))\n",
    "model_Conv3D.add(BatchNormalization())\n",
    "\n",
    "\n",
    "model_Conv3D.add(Dense(5,activation='softmax'))"
   ]
  },
  {
   "cell_type": "code",
   "execution_count": 27,
   "metadata": {},
   "outputs": [
    {
     "name": "stdout",
     "output_type": "stream",
     "text": [
      "Model: \"sequential_3\"\n",
      "_________________________________________________________________\n",
      "Layer (type)                 Output Shape              Param #   \n",
      "=================================================================\n",
      "conv3d_9 (Conv3D)            (None, 19, 75, 75, 16)    400       \n",
      "_________________________________________________________________\n",
      "activation_9 (Activation)    (None, 19, 75, 75, 16)    0         \n",
      "_________________________________________________________________\n",
      "batch_normalization_15 (Batc (None, 19, 75, 75, 16)    64        \n",
      "_________________________________________________________________\n",
      "max_pooling3d_9 (MaxPooling3 (None, 9, 37, 37, 16)     0         \n",
      "_________________________________________________________________\n",
      "conv3d_10 (Conv3D)           (None, 9, 37, 37, 32)     4128      \n",
      "_________________________________________________________________\n",
      "activation_10 (Activation)   (None, 9, 37, 37, 32)     0         \n",
      "_________________________________________________________________\n",
      "batch_normalization_16 (Batc (None, 9, 37, 37, 32)     128       \n",
      "_________________________________________________________________\n",
      "max_pooling3d_10 (MaxPooling (None, 4, 18, 18, 32)     0         \n",
      "_________________________________________________________________\n",
      "conv3d_11 (Conv3D)           (None, 4, 18, 18, 64)     16448     \n",
      "_________________________________________________________________\n",
      "activation_11 (Activation)   (None, 4, 18, 18, 64)     0         \n",
      "_________________________________________________________________\n",
      "batch_normalization_17 (Batc (None, 4, 18, 18, 64)     256       \n",
      "_________________________________________________________________\n",
      "max_pooling3d_11 (MaxPooling (None, 2, 9, 9, 64)       0         \n",
      "_________________________________________________________________\n",
      "flatten_3 (Flatten)          (None, 10368)             0         \n",
      "_________________________________________________________________\n",
      "dense_9 (Dense)              (None, 128)               1327232   \n",
      "_________________________________________________________________\n",
      "batch_normalization_18 (Batc (None, 128)               512       \n",
      "_________________________________________________________________\n",
      "dropout (Dropout)            (None, 128)               0         \n",
      "_________________________________________________________________\n",
      "dense_10 (Dense)             (None, 64)                8256      \n",
      "_________________________________________________________________\n",
      "batch_normalization_19 (Batc (None, 64)                256       \n",
      "_________________________________________________________________\n",
      "dense_11 (Dense)             (None, 5)                 325       \n",
      "=================================================================\n",
      "Total params: 1,358,005\n",
      "Trainable params: 1,357,397\n",
      "Non-trainable params: 608\n",
      "_________________________________________________________________\n",
      "None\n"
     ]
    }
   ],
   "source": [
    "optimiser = tf.keras.optimizers.Adam()\n",
    "model_Conv3D.compile(optimizer=optimiser, loss='categorical_crossentropy', metrics=['categorical_accuracy'])\n",
    "print (model_Conv3D.summary())"
   ]
  },
  {
   "cell_type": "code",
   "execution_count": 28,
   "metadata": {},
   "outputs": [],
   "source": [
    "train_generator = generator(train_path, train_doc, batch_size)\n",
    "val_generator = generator(val_path, val_doc, batch_size)"
   ]
  },
  {
   "cell_type": "code",
   "execution_count": 29,
   "metadata": {},
   "outputs": [
    {
     "name": "stdout",
     "output_type": "stream",
     "text": [
      "WARNING:tensorflow:`period` argument is deprecated. Please use `save_freq` to specify the frequency in number of batches seen.\n"
     ]
    }
   ],
   "source": [
    "model_name = 'model_init' + '_' + str(curr_dt_time).replace(' ','').replace(':','_') + '/'\n",
    "    \n",
    "if not os.path.exists(model_name):\n",
    "    os.mkdir(model_name)\n",
    "        \n",
    "filepath = model_name + 'model-{epoch:05d}-{loss:.5f}-{categorical_accuracy:.5f}-{val_loss:.5f}-{val_categorical_accuracy:.5f}.h5'\n",
    "\n",
    "checkpoint = ModelCheckpoint(filepath, monitor='val_loss', verbose=1, save_best_only=False,\n",
    "                             mode='auto', save_weights_only=False, period=1)\n",
    "LR = ReduceLROnPlateau(monitor = \"val_loss\", factor = 0.2, patience = 4,verbose = 1)\n",
    "callbacks_list = [checkpoint, LR]"
   ]
  },
  {
   "cell_type": "markdown",
   "metadata": {},
   "source": [
    "The `steps_per_epoch` and `validation_steps` are used by `fit_generator` to decide the number of next() calls it need to make."
   ]
  },
  {
   "cell_type": "code",
   "execution_count": 30,
   "metadata": {},
   "outputs": [],
   "source": [
    "if (num_train_sequences%batch_size) == 0:\n",
    "    steps_per_epoch = int(num_train_sequences/batch_size)\n",
    "else:\n",
    "    steps_per_epoch = (num_train_sequences//batch_size) + 1\n",
    "\n",
    "if (num_val_sequences%batch_size) == 0:\n",
    "    validation_steps = int(num_val_sequences/batch_size)\n",
    "else:\n",
    "    validation_steps = (num_val_sequences//batch_size) + 1"
   ]
  },
  {
   "cell_type": "markdown",
   "metadata": {},
   "source": [
    "Let us now fit the model. This will start training the model and with the help of the checkpoints, you'll be able to save the model at the end of each epoch."
   ]
  },
  {
   "cell_type": "code",
   "execution_count": 31,
   "metadata": {
    "scrolled": false
   },
   "outputs": [
    {
     "name": "stderr",
     "output_type": "stream",
     "text": [
      "C:\\Users\\deabh\\anaconda3\\envs\\tf1\\lib\\site-packages\\keras\\engine\\training.py:1972: UserWarning: `Model.fit_generator` is deprecated and will be removed in a future version. Please use `Model.fit`, which supports generators.\n",
      "  warnings.warn('`Model.fit_generator` is deprecated and '\n"
     ]
    },
    {
     "name": "stdout",
     "output_type": "stream",
     "text": [
      "Source path =  D:\\Upgrad Data Science PGDDS\\Course 4 Deep Learning\\Module 6 Deep Learning Case Study\\Project_data\\train ; batch size = 20\n",
      "Epoch 1/20\n",
      "34/34 [==============================] - ETA: 0s - loss: 1.0446 - categorical_accuracy: 0.5958Source path =  D:\\Upgrad Data Science PGDDS\\Course 4 Deep Learning\\Module 6 Deep Learning Case Study\\Project_data\\val ; batch size = 20\n",
      "34/34 [==============================] - 167s 5s/step - loss: 1.0446 - categorical_accuracy: 0.5958 - val_loss: 2.3896 - val_categorical_accuracy: 0.1600\n",
      "\n",
      "Epoch 00001: saving model to model_init_2021-09-1605_37_00.979671\\model-00001-1.04464-0.59578-2.38959-0.16000.h5\n",
      "Epoch 2/20\n",
      "34/34 [==============================] - 47s 1s/step - loss: 1.1765 - categorical_accuracy: 0.5490 - val_loss: 3.4321 - val_categorical_accuracy: 0.1400\n",
      "\n",
      "Epoch 00002: saving model to model_init_2021-09-1605_37_00.979671\\model-00002-1.17655-0.54902-3.43207-0.14000.h5\n",
      "Epoch 3/20\n",
      "34/34 [==============================] - 47s 1s/step - loss: 1.3999 - categorical_accuracy: 0.4020 - val_loss: 4.9781 - val_categorical_accuracy: 0.1600\n",
      "\n",
      "Epoch 00003: saving model to model_init_2021-09-1605_37_00.979671\\model-00003-1.39991-0.40196-4.97810-0.16000.h5\n",
      "Epoch 4/20\n",
      "34/34 [==============================] - 48s 1s/step - loss: 1.7129 - categorical_accuracy: 0.3529 - val_loss: 7.9215 - val_categorical_accuracy: 0.1600\n",
      "\n",
      "Epoch 00004: saving model to model_init_2021-09-1605_37_00.979671\\model-00004-1.71292-0.35294-7.92152-0.16000.h5\n",
      "Epoch 5/20\n",
      "34/34 [==============================] - 55s 2s/step - loss: 1.3513 - categorical_accuracy: 0.5588 - val_loss: 8.1138 - val_categorical_accuracy: 0.2100\n",
      "\n",
      "Epoch 00005: saving model to model_init_2021-09-1605_37_00.979671\\model-00005-1.35128-0.55882-8.11382-0.21000.h5\n",
      "\n",
      "Epoch 00005: ReduceLROnPlateau reducing learning rate to 0.00020000000949949026.\n",
      "Epoch 6/20\n",
      "34/34 [==============================] - 51s 2s/step - loss: 1.1677 - categorical_accuracy: 0.5392 - val_loss: 11.5498 - val_categorical_accuracy: 0.1600\n",
      "\n",
      "Epoch 00006: saving model to model_init_2021-09-1605_37_00.979671\\model-00006-1.16766-0.53922-11.54981-0.16000.h5\n",
      "Epoch 7/20\n",
      "34/34 [==============================] - 59s 2s/step - loss: 1.2326 - categorical_accuracy: 0.4608 - val_loss: 13.9040 - val_categorical_accuracy: 0.2200\n",
      "\n",
      "Epoch 00007: saving model to model_init_2021-09-1605_37_00.979671\\model-00007-1.23257-0.46078-13.90404-0.22000.h5\n",
      "Epoch 8/20\n",
      "34/34 [==============================] - 57s 2s/step - loss: 1.1904 - categorical_accuracy: 0.5098 - val_loss: 16.5967 - val_categorical_accuracy: 0.2300\n",
      "\n",
      "Epoch 00008: saving model to model_init_2021-09-1605_37_00.979671\\model-00008-1.19037-0.50980-16.59670-0.23000.h5\n",
      "Epoch 9/20\n",
      "34/34 [==============================] - 46s 1s/step - loss: 1.1428 - categorical_accuracy: 0.5686 - val_loss: 11.5715 - val_categorical_accuracy: 0.3400\n",
      "\n",
      "Epoch 00009: saving model to model_init_2021-09-1605_37_00.979671\\model-00009-1.14284-0.56863-11.57154-0.34000.h5\n",
      "\n",
      "Epoch 00009: ReduceLROnPlateau reducing learning rate to 4.0000001899898055e-05.\n",
      "Epoch 10/20\n",
      "34/34 [==============================] - 49s 1s/step - loss: 1.1787 - categorical_accuracy: 0.5196 - val_loss: 9.3973 - val_categorical_accuracy: 0.2500\n",
      "\n",
      "Epoch 00010: saving model to model_init_2021-09-1605_37_00.979671\\model-00010-1.17869-0.51961-9.39727-0.25000.h5\n",
      "Epoch 11/20\n",
      "34/34 [==============================] - 58s 2s/step - loss: 1.1159 - categorical_accuracy: 0.5784 - val_loss: 7.7633 - val_categorical_accuracy: 0.2600\n",
      "\n",
      "Epoch 00011: saving model to model_init_2021-09-1605_37_00.979671\\model-00011-1.11595-0.57843-7.76332-0.26000.h5\n",
      "Epoch 12/20\n",
      "34/34 [==============================] - 53s 2s/step - loss: 1.0964 - categorical_accuracy: 0.5882 - val_loss: 6.1923 - val_categorical_accuracy: 0.2500\n",
      "\n",
      "Epoch 00012: saving model to model_init_2021-09-1605_37_00.979671\\model-00012-1.09635-0.58824-6.19227-0.25000.h5\n",
      "Epoch 13/20\n",
      "34/34 [==============================] - 54s 2s/step - loss: 1.1636 - categorical_accuracy: 0.5784 - val_loss: 3.7080 - val_categorical_accuracy: 0.3000\n",
      "\n",
      "Epoch 00013: saving model to model_init_2021-09-1605_37_00.979671\\model-00013-1.16357-0.57843-3.70799-0.30000.h5\n",
      "\n",
      "Epoch 00013: ReduceLROnPlateau reducing learning rate to 8.000000525498762e-06.\n",
      "Epoch 14/20\n",
      "34/34 [==============================] - 59s 2s/step - loss: 1.0665 - categorical_accuracy: 0.5980 - val_loss: 3.0859 - val_categorical_accuracy: 0.3300\n",
      "\n",
      "Epoch 00014: saving model to model_init_2021-09-1605_37_00.979671\\model-00014-1.06646-0.59804-3.08586-0.33000.h5\n",
      "Epoch 15/20\n",
      "34/34 [==============================] - 49s 1s/step - loss: 1.2253 - categorical_accuracy: 0.5098 - val_loss: 1.8017 - val_categorical_accuracy: 0.4400\n",
      "\n",
      "Epoch 00015: saving model to model_init_2021-09-1605_37_00.979671\\model-00015-1.22532-0.50980-1.80172-0.44000.h5\n",
      "Epoch 16/20\n",
      "34/34 [==============================] - 51s 2s/step - loss: 0.9482 - categorical_accuracy: 0.5980 - val_loss: 1.7618 - val_categorical_accuracy: 0.4500\n",
      "\n",
      "Epoch 00016: saving model to model_init_2021-09-1605_37_00.979671\\model-00016-0.94824-0.59804-1.76180-0.45000.h5\n",
      "Epoch 17/20\n",
      "34/34 [==============================] - 48s 1s/step - loss: 1.2168 - categorical_accuracy: 0.5490 - val_loss: 1.3963 - val_categorical_accuracy: 0.4200\n",
      "\n",
      "Epoch 00017: saving model to model_init_2021-09-1605_37_00.979671\\model-00017-1.21683-0.54902-1.39634-0.42000.h5\n",
      "Epoch 18/20\n",
      "34/34 [==============================] - 51s 2s/step - loss: 1.0115 - categorical_accuracy: 0.5980 - val_loss: 1.1461 - val_categorical_accuracy: 0.5000\n",
      "\n",
      "Epoch 00018: saving model to model_init_2021-09-1605_37_00.979671\\model-00018-1.01146-0.59804-1.14608-0.50000.h5\n",
      "Epoch 19/20\n",
      "34/34 [==============================] - 51s 2s/step - loss: 1.1082 - categorical_accuracy: 0.5392 - val_loss: 1.4118 - val_categorical_accuracy: 0.4200\n",
      "\n",
      "Epoch 00019: saving model to model_init_2021-09-1605_37_00.979671\\model-00019-1.10821-0.53922-1.41182-0.42000.h5\n",
      "Epoch 20/20\n",
      "34/34 [==============================] - 53s 2s/step - loss: 1.0416 - categorical_accuracy: 0.5686 - val_loss: 1.0816 - val_categorical_accuracy: 0.5800\n",
      "\n",
      "Epoch 00020: saving model to model_init_2021-09-1605_37_00.979671\\model-00020-1.04156-0.56863-1.08158-0.58000.h5\n"
     ]
    },
    {
     "data": {
      "text/plain": [
       "<keras.callbacks.History at 0x27710b9d970>"
      ]
     },
     "execution_count": 31,
     "metadata": {},
     "output_type": "execute_result"
    }
   ],
   "source": [
    "model_Conv3D.fit_generator(train_generator, steps_per_epoch=steps_per_epoch, epochs=num_epochs, verbose=1, \n",
    "                    validation_data=val_generator,callbacks=callbacks_list,\n",
    "                    validation_steps=validation_steps, class_weight=None, workers=1, initial_epoch=0)"
   ]
  },
  {
   "cell_type": "code",
   "execution_count": 32,
   "metadata": {},
   "outputs": [
    {
     "data": {
      "image/png": "[encoded data removed]",
      "text/plain": [
       "<Figure size 1080x288 with 2 Axes>"
      ]
     },
     "metadata": {
      "needs_background": "light"
     },
     "output_type": "display_data"
    }
   ],
   "source": [
    "plot(model_Conv3D)"
   ]
  },
  {
   "cell_type": "markdown",
   "metadata": {},
   "source": [
    "**Model has low accuracy though the model is fitting well.**"
   ]
  },
  {
   "cell_type": "markdown",
   "metadata": {},
   "source": [
    "### Reducing the parameters"
   ]
  },
  {
   "cell_type": "code",
   "execution_count": 33,
   "metadata": {},
   "outputs": [],
   "source": [
    "model_Conv3D2 = Sequential()\n",
    "model_Conv3D2.add(Conv3D(16, (2, 2, 2),padding='same', input_shape=(19,75,75,3)))\n",
    "model_Conv3D2.add(Activation('relu'))\n",
    "model_Conv3D2.add(BatchNormalization())\n",
    "model_Conv3D2.add(MaxPooling3D(pool_size=(2, 2, 2)))\n",
    "\n",
    "\n",
    "model_Conv3D2.add(Conv3D(32, (2, 2, 2),padding='same'))\n",
    "model_Conv3D2.add(Activation('relu'))\n",
    "model_Conv3D2.add(BatchNormalization())\n",
    "model_Conv3D2.add(MaxPooling3D(pool_size=(2, 2, 2)))\n",
    "\n",
    "model_Conv3D2.add(Conv3D(64, (2, 2, 2),padding='same'))\n",
    "model_Conv3D2.add(Activation('relu'))\n",
    "model_Conv3D2.add(BatchNormalization())\n",
    "model_Conv3D2.add(MaxPooling3D(pool_size=(2, 2, 2)))\n",
    "\n",
    "model_Conv3D2.add(Flatten())\n",
    "#model_Conv3D.add(Dense(128,activation='relu'))\n",
    "#model_Conv3D.add(BatchNormalization())\n",
    "#model_Conv3D.add(Dropout(0.25))\n",
    "\n",
    "model_Conv3D2.add(Dense(64,activation='relu'))\n",
    "model_Conv3D2.add(BatchNormalization())\n",
    "model_Conv3D2.add(Dropout(0.2))\n",
    "\n",
    "\n",
    "model_Conv3D2.add(Dense(5,activation='softmax'))"
   ]
  },
  {
   "cell_type": "code",
   "execution_count": 34,
   "metadata": {
    "scrolled": true
   },
   "outputs": [
    {
     "name": "stdout",
     "output_type": "stream",
     "text": [
      "Model: \"sequential_4\"\n",
      "_________________________________________________________________\n",
      "Layer (type)                 Output Shape              Param #   \n",
      "=================================================================\n",
      "conv3d_12 (Conv3D)           (None, 19, 75, 75, 16)    400       \n",
      "_________________________________________________________________\n",
      "activation_12 (Activation)   (None, 19, 75, 75, 16)    0         \n",
      "_________________________________________________________________\n",
      "batch_normalization_20 (Batc (None, 19, 75, 75, 16)    64        \n",
      "_________________________________________________________________\n",
      "max_pooling3d_12 (MaxPooling (None, 9, 37, 37, 16)     0         \n",
      "_________________________________________________________________\n",
      "conv3d_13 (Conv3D)           (None, 9, 37, 37, 32)     4128      \n",
      "_________________________________________________________________\n",
      "activation_13 (Activation)   (None, 9, 37, 37, 32)     0         \n",
      "_________________________________________________________________\n",
      "batch_normalization_21 (Batc (None, 9, 37, 37, 32)     128       \n",
      "_________________________________________________________________\n",
      "max_pooling3d_13 (MaxPooling (None, 4, 18, 18, 32)     0         \n",
      "_________________________________________________________________\n",
      "conv3d_14 (Conv3D)           (None, 4, 18, 18, 64)     16448     \n",
      "_________________________________________________________________\n",
      "activation_14 (Activation)   (None, 4, 18, 18, 64)     0         \n",
      "_________________________________________________________________\n",
      "batch_normalization_22 (Batc (None, 4, 18, 18, 64)     256       \n",
      "_________________________________________________________________\n",
      "max_pooling3d_14 (MaxPooling (None, 2, 9, 9, 64)       0         \n",
      "_________________________________________________________________\n",
      "flatten_4 (Flatten)          (None, 10368)             0         \n",
      "_________________________________________________________________\n",
      "dense_12 (Dense)             (None, 64)                663616    \n",
      "_________________________________________________________________\n",
      "batch_normalization_23 (Batc (None, 64)                256       \n",
      "_________________________________________________________________\n",
      "dropout_1 (Dropout)          (None, 64)                0         \n",
      "_________________________________________________________________\n",
      "dense_13 (Dense)             (None, 5)                 325       \n",
      "=================================================================\n",
      "Total params: 685,621\n",
      "Trainable params: 685,269\n",
      "Non-trainable params: 352\n",
      "_________________________________________________________________\n",
      "None\n"
     ]
    }
   ],
   "source": [
    "optimiser = tf.keras.optimizers.Adam()\n",
    "model_Conv3D2.compile(optimizer=optimiser, loss='categorical_crossentropy', metrics=['categorical_accuracy'])\n",
    "print (model_Conv3D2.summary())"
   ]
  },
  {
   "cell_type": "code",
   "execution_count": 35,
   "metadata": {},
   "outputs": [],
   "source": [
    "train_generator = generator(train_path, train_doc, batch_size)\n",
    "val_generator = generator(val_path, val_doc, batch_size)"
   ]
  },
  {
   "cell_type": "code",
   "execution_count": 36,
   "metadata": {},
   "outputs": [
    {
     "name": "stdout",
     "output_type": "stream",
     "text": [
      "WARNING:tensorflow:`period` argument is deprecated. Please use `save_freq` to specify the frequency in number of batches seen.\n"
     ]
    }
   ],
   "source": [
    "model_name = 'model_init' + '_' + str(curr_dt_time).replace(' ','').replace(':','_') + '/'\n",
    "    \n",
    "if not os.path.exists(model_name):\n",
    "    os.mkdir(model_name)\n",
    "        \n",
    "filepath = model_name + 'model-{epoch:05d}-{loss:.5f}-{categorical_accuracy:.5f}-{val_loss:.5f}-{val_categorical_accuracy:.5f}.h5'\n",
    "\n",
    "checkpoint = ModelCheckpoint(filepath, monitor='val_loss', verbose=1, save_best_only=False,\n",
    "                             mode='auto', save_weights_only=False, period=1)\n",
    "LR = ReduceLROnPlateau(monitor = \"val_loss\", factor = 0.2, patience = 4,verbose = 1)\n",
    "callbacks_list = [checkpoint, LR]"
   ]
  },
  {
   "cell_type": "markdown",
   "metadata": {},
   "source": [
    "The `steps_per_epoch` and `validation_steps` are used by `fit_generator` to decide the number of next() calls it need to make."
   ]
  },
  {
   "cell_type": "code",
   "execution_count": 37,
   "metadata": {},
   "outputs": [],
   "source": [
    "if (num_train_sequences%batch_size) == 0:\n",
    "    steps_per_epoch = int(num_train_sequences/batch_size)\n",
    "else:\n",
    "    steps_per_epoch = (num_train_sequences//batch_size) + 1\n",
    "\n",
    "if (num_val_sequences%batch_size) == 0:\n",
    "    validation_steps = int(num_val_sequences/batch_size)\n",
    "else:\n",
    "    validation_steps = (num_val_sequences//batch_size) + 1"
   ]
  },
  {
   "cell_type": "markdown",
   "metadata": {},
   "source": [
    "Let us now fit the model. This will start training the model and with the help of the checkpoints, you'll be able to save the model at the end of each epoch."
   ]
  },
  {
   "cell_type": "code",
   "execution_count": 38,
   "metadata": {
    "scrolled": false
   },
   "outputs": [
    {
     "name": "stderr",
     "output_type": "stream",
     "text": [
      "C:\\Users\\deabh\\anaconda3\\envs\\tf1\\lib\\site-packages\\keras\\engine\\training.py:1972: UserWarning: `Model.fit_generator` is deprecated and will be removed in a future version. Please use `Model.fit`, which supports generators.\n",
      "  warnings.warn('`Model.fit_generator` is deprecated and '\n"
     ]
    },
    {
     "name": "stdout",
     "output_type": "stream",
     "text": [
      "Source path =  D:\\Upgrad Data Science PGDDS\\Course 4 Deep Learning\\Module 6 Deep Learning Case Study\\Project_data\\train ; batch size = 20\n",
      "Epoch 1/20\n",
      "34/34 [==============================] - ETA: 0s - loss: 1.0095 - categorical_accuracy: 0.6139Source path =  D:\\Upgrad Data Science PGDDS\\Course 4 Deep Learning\\Module 6 Deep Learning Case Study\\Project_data\\val ; batch size = 20\n",
      "34/34 [==============================] - 167s 5s/step - loss: 1.0095 - categorical_accuracy: 0.6139 - val_loss: 4.5211 - val_categorical_accuracy: 0.2100\n",
      "\n",
      "Epoch 00001: saving model to model_init_2021-09-1605_37_00.979671\\model-00001-1.00950-0.61388-4.52105-0.21000.h5\n",
      "Epoch 2/20\n",
      "34/34 [==============================] - 42s 1s/step - loss: 0.8228 - categorical_accuracy: 0.6863 - val_loss: 8.6217 - val_categorical_accuracy: 0.2000\n",
      "\n",
      "Epoch 00002: saving model to model_init_2021-09-1605_37_00.979671\\model-00002-0.82277-0.68627-8.62170-0.20000.h5\n",
      "Epoch 3/20\n",
      "34/34 [==============================] - 46s 1s/step - loss: 0.8430 - categorical_accuracy: 0.6961 - val_loss: 13.3605 - val_categorical_accuracy: 0.2200\n",
      "\n",
      "Epoch 00003: saving model to model_init_2021-09-1605_37_00.979671\\model-00003-0.84296-0.69608-13.36047-0.22000.h5\n",
      "Epoch 4/20\n",
      "34/34 [==============================] - 52s 2s/step - loss: 1.1047 - categorical_accuracy: 0.6373 - val_loss: 18.0887 - val_categorical_accuracy: 0.2100\n",
      "\n",
      "Epoch 00004: saving model to model_init_2021-09-1605_37_00.979671\\model-00004-1.10473-0.63725-18.08871-0.21000.h5\n",
      "Epoch 5/20\n",
      "34/34 [==============================] - 51s 2s/step - loss: 0.8970 - categorical_accuracy: 0.6765 - val_loss: 24.1174 - val_categorical_accuracy: 0.1700\n",
      "\n",
      "Epoch 00005: saving model to model_init_2021-09-1605_37_00.979671\\model-00005-0.89704-0.67647-24.11741-0.17000.h5\n",
      "\n",
      "Epoch 00005: ReduceLROnPlateau reducing learning rate to 0.00020000000949949026.\n",
      "Epoch 6/20\n",
      "34/34 [==============================] - 53s 2s/step - loss: 1.1735 - categorical_accuracy: 0.5784 - val_loss: 23.6672 - val_categorical_accuracy: 0.2100\n",
      "\n",
      "Epoch 00006: saving model to model_init_2021-09-1605_37_00.979671\\model-00006-1.17348-0.57843-23.66718-0.21000.h5\n",
      "Epoch 7/20\n",
      "34/34 [==============================] - 39s 1s/step - loss: 1.0743 - categorical_accuracy: 0.5588 - val_loss: 24.4214 - val_categorical_accuracy: 0.2100\n",
      "\n",
      "Epoch 00007: saving model to model_init_2021-09-1605_37_00.979671\\model-00007-1.07427-0.55882-24.42143-0.21000.h5\n",
      "Epoch 8/20\n",
      "34/34 [==============================] - 48s 1s/step - loss: 1.1118 - categorical_accuracy: 0.5784 - val_loss: 23.5426 - val_categorical_accuracy: 0.1900\n",
      "\n",
      "Epoch 00008: saving model to model_init_2021-09-1605_37_00.979671\\model-00008-1.11184-0.57843-23.54263-0.19000.h5\n",
      "Epoch 9/20\n",
      "34/34 [==============================] - 38s 1s/step - loss: 1.0164 - categorical_accuracy: 0.5980 - val_loss: 16.5091 - val_categorical_accuracy: 0.2300\n",
      "\n",
      "Epoch 00009: saving model to model_init_2021-09-1605_37_00.979671\\model-00009-1.01642-0.59804-16.50914-0.23000.h5\n",
      "\n",
      "Epoch 00009: ReduceLROnPlateau reducing learning rate to 4.0000001899898055e-05.\n",
      "Epoch 10/20\n",
      "34/34 [==============================] - 40s 1s/step - loss: 0.8989 - categorical_accuracy: 0.6275 - val_loss: 12.2624 - val_categorical_accuracy: 0.2000\n",
      "\n",
      "Epoch 00010: saving model to model_init_2021-09-1605_37_00.979671\\model-00010-0.89894-0.62745-12.26243-0.20000.h5\n",
      "Epoch 11/20\n",
      "34/34 [==============================] - 54s 2s/step - loss: 0.8278 - categorical_accuracy: 0.7255 - val_loss: 7.5079 - val_categorical_accuracy: 0.3000\n",
      "\n",
      "Epoch 00011: saving model to model_init_2021-09-1605_37_00.979671\\model-00011-0.82779-0.72549-7.50793-0.30000.h5\n",
      "Epoch 12/20\n",
      "34/34 [==============================] - 48s 1s/step - loss: 0.8260 - categorical_accuracy: 0.7059 - val_loss: 5.5895 - val_categorical_accuracy: 0.2900\n",
      "\n",
      "Epoch 00012: saving model to model_init_2021-09-1605_37_00.979671\\model-00012-0.82603-0.70588-5.58948-0.29000.h5\n",
      "Epoch 13/20\n",
      "34/34 [==============================] - 47s 1s/step - loss: 0.8113 - categorical_accuracy: 0.7451 - val_loss: 3.0348 - val_categorical_accuracy: 0.3500\n",
      "\n",
      "Epoch 00013: saving model to model_init_2021-09-1605_37_00.979671\\model-00013-0.81128-0.74510-3.03478-0.35000.h5\n",
      "Epoch 14/20\n",
      "34/34 [==============================] - 46s 1s/step - loss: 0.8573 - categorical_accuracy: 0.6863 - val_loss: 2.3387 - val_categorical_accuracy: 0.4500\n",
      "\n",
      "Epoch 00014: saving model to model_init_2021-09-1605_37_00.979671\\model-00014-0.85733-0.68627-2.33868-0.45000.h5\n",
      "Epoch 15/20\n",
      "34/34 [==============================] - 47s 1s/step - loss: 0.8721 - categorical_accuracy: 0.6765 - val_loss: 1.4606 - val_categorical_accuracy: 0.6100\n",
      "\n",
      "Epoch 00015: saving model to model_init_2021-09-1605_37_00.979671\\model-00015-0.87206-0.67647-1.46056-0.61000.h5\n",
      "Epoch 16/20\n",
      "34/34 [==============================] - 46s 1s/step - loss: 0.7816 - categorical_accuracy: 0.6961 - val_loss: 1.2972 - val_categorical_accuracy: 0.5800\n",
      "\n",
      "Epoch 00016: saving model to model_init_2021-09-1605_37_00.979671\\model-00016-0.78162-0.69608-1.29719-0.58000.h5\n",
      "Epoch 17/20\n",
      "34/34 [==============================] - 57s 2s/step - loss: 0.9265 - categorical_accuracy: 0.6275 - val_loss: 1.0719 - val_categorical_accuracy: 0.6100\n",
      "\n",
      "Epoch 00017: saving model to model_init_2021-09-1605_37_00.979671\\model-00017-0.92645-0.62745-1.07186-0.61000.h5\n",
      "Epoch 18/20\n",
      "34/34 [==============================] - 47s 1s/step - loss: 0.8257 - categorical_accuracy: 0.7157 - val_loss: 0.9137 - val_categorical_accuracy: 0.6600\n",
      "\n",
      "Epoch 00018: saving model to model_init_2021-09-1605_37_00.979671\\model-00018-0.82567-0.71569-0.91367-0.66000.h5\n",
      "Epoch 19/20\n",
      "34/34 [==============================] - 45s 1s/step - loss: 0.8890 - categorical_accuracy: 0.7157 - val_loss: 0.7864 - val_categorical_accuracy: 0.7100\n",
      "\n",
      "Epoch 00019: saving model to model_init_2021-09-1605_37_00.979671\\model-00019-0.88899-0.71569-0.78637-0.71000.h5\n",
      "Epoch 20/20\n",
      "34/34 [==============================] - 48s 1s/step - loss: 0.7685 - categorical_accuracy: 0.7647 - val_loss: 0.8336 - val_categorical_accuracy: 0.6700\n",
      "\n",
      "Epoch 00020: saving model to model_init_2021-09-1605_37_00.979671\\model-00020-0.76854-0.76471-0.83356-0.67000.h5\n"
     ]
    },
    {
     "data": {
      "text/plain": [
       "<keras.callbacks.History at 0x2770da08f10>"
      ]
     },
     "execution_count": 38,
     "metadata": {},
     "output_type": "execute_result"
    }
   ],
   "source": [
    "model_Conv3D2.fit_generator(train_generator, steps_per_epoch=steps_per_epoch, epochs=num_epochs, verbose=1, \n",
    "                    validation_data=val_generator,callbacks=callbacks_list,\n",
    "                    validation_steps=validation_steps, class_weight=None, workers=1, initial_epoch=0)"
   ]
  },
  {
   "cell_type": "code",
   "execution_count": 39,
   "metadata": {},
   "outputs": [
    {
     "data": {
      "image/png": "[encoded data removed]",
      "text/plain": [
       "<Figure size 1080x288 with 2 Axes>"
      ]
     },
     "metadata": {
      "needs_background": "light"
     },
     "output_type": "display_data"
    }
   ],
   "source": [
    "plot(model_Conv3D2)"
   ]
  },
  {
   "cell_type": "markdown",
   "metadata": {},
   "source": [
    "**Model's accuracy increased for training and validation set by a good margin after reducing the parameters.**"
   ]
  },
  {
   "cell_type": "markdown",
   "metadata": {},
   "source": [
    "### Increasing the filter size (3x3x3)"
   ]
  },
  {
   "cell_type": "code",
   "execution_count": 40,
   "metadata": {},
   "outputs": [],
   "source": [
    "model_Conv3D1 = Sequential()\n",
    "model_Conv3D1.add(Conv3D(16, (3, 3, 3),padding='same', input_shape=(19,75,75,3)))\n",
    "model_Conv3D1.add(Activation('relu'))\n",
    "model_Conv3D1.add(BatchNormalization())\n",
    "model_Conv3D1.add(MaxPooling3D(pool_size=(2, 2, 2)))\n",
    "\n",
    "\n",
    "model_Conv3D1.add(Conv3D(32, (3, 3, 3),padding='same'))\n",
    "model_Conv3D1.add(Activation('relu'))\n",
    "model_Conv3D1.add(BatchNormalization())\n",
    "model_Conv3D1.add(MaxPooling3D(pool_size=(2, 2, 2)))\n",
    "\n",
    "model_Conv3D1.add(Conv3D(64, (3, 3, 3),padding='same'))\n",
    "model_Conv3D1.add(Activation('relu'))\n",
    "model_Conv3D1.add(BatchNormalization())\n",
    "model_Conv3D1.add(MaxPooling3D(pool_size=(2, 2, 2)))\n",
    "\n",
    "model_Conv3D1.add(Flatten())\n",
    "model_Conv3D1.add(Dense(128,activation='relu'))\n",
    "model_Conv3D1.add(BatchNormalization())\n",
    "#model_Conv3D1.add(Dropout(0.25))\n",
    "\n",
    "model_Conv3D1.add(Dense(64,activation='relu'))\n",
    "model_Conv3D1.add(BatchNormalization())\n",
    "model_Conv3D1.add(Dropout(0.2))\n",
    "\n",
    "\n",
    "model_Conv3D1.add(Dense(5,activation='softmax'))"
   ]
  },
  {
   "cell_type": "code",
   "execution_count": 41,
   "metadata": {},
   "outputs": [
    {
     "name": "stdout",
     "output_type": "stream",
     "text": [
      "Model: \"sequential_5\"\n",
      "_________________________________________________________________\n",
      "Layer (type)                 Output Shape              Param #   \n",
      "=================================================================\n",
      "conv3d_15 (Conv3D)           (None, 19, 75, 75, 16)    1312      \n",
      "_________________________________________________________________\n",
      "activation_15 (Activation)   (None, 19, 75, 75, 16)    0         \n",
      "_________________________________________________________________\n",
      "batch_normalization_24 (Batc (None, 19, 75, 75, 16)    64        \n",
      "_________________________________________________________________\n",
      "max_pooling3d_15 (MaxPooling (None, 9, 37, 37, 16)     0         \n",
      "_________________________________________________________________\n",
      "conv3d_16 (Conv3D)           (None, 9, 37, 37, 32)     13856     \n",
      "_________________________________________________________________\n",
      "activation_16 (Activation)   (None, 9, 37, 37, 32)     0         \n",
      "_________________________________________________________________\n",
      "batch_normalization_25 (Batc (None, 9, 37, 37, 32)     128       \n",
      "_________________________________________________________________\n",
      "max_pooling3d_16 (MaxPooling (None, 4, 18, 18, 32)     0         \n",
      "_________________________________________________________________\n",
      "conv3d_17 (Conv3D)           (None, 4, 18, 18, 64)     55360     \n",
      "_________________________________________________________________\n",
      "activation_17 (Activation)   (None, 4, 18, 18, 64)     0         \n",
      "_________________________________________________________________\n",
      "batch_normalization_26 (Batc (None, 4, 18, 18, 64)     256       \n",
      "_________________________________________________________________\n",
      "max_pooling3d_17 (MaxPooling (None, 2, 9, 9, 64)       0         \n",
      "_________________________________________________________________\n",
      "flatten_5 (Flatten)          (None, 10368)             0         \n",
      "_________________________________________________________________\n",
      "dense_14 (Dense)             (None, 128)               1327232   \n",
      "_________________________________________________________________\n",
      "batch_normalization_27 (Batc (None, 128)               512       \n",
      "_________________________________________________________________\n",
      "dense_15 (Dense)             (None, 64)                8256      \n",
      "_________________________________________________________________\n",
      "batch_normalization_28 (Batc (None, 64)                256       \n",
      "_________________________________________________________________\n",
      "dropout_2 (Dropout)          (None, 64)                0         \n",
      "_________________________________________________________________\n",
      "dense_16 (Dense)             (None, 5)                 325       \n",
      "=================================================================\n",
      "Total params: 1,407,557\n",
      "Trainable params: 1,406,949\n",
      "Non-trainable params: 608\n",
      "_________________________________________________________________\n",
      "None\n"
     ]
    }
   ],
   "source": [
    "optimiser = tf.keras.optimizers.Adam()\n",
    "model_Conv3D1.compile(optimizer=optimiser, loss='categorical_crossentropy', metrics=['categorical_accuracy'])\n",
    "print (model_Conv3D1.summary())"
   ]
  },
  {
   "cell_type": "code",
   "execution_count": 42,
   "metadata": {},
   "outputs": [],
   "source": [
    "train_generator = generator(train_path, train_doc, batch_size)\n",
    "val_generator = generator(val_path, val_doc, batch_size)"
   ]
  },
  {
   "cell_type": "markdown",
   "metadata": {},
   "source": [
    "The `steps_per_epoch` and `validation_steps` are used by `fit_generator` to decide the number of next() calls it need to make."
   ]
  },
  {
   "cell_type": "code",
   "execution_count": 43,
   "metadata": {},
   "outputs": [],
   "source": [
    "if (num_train_sequences%batch_size) == 0:\n",
    "    steps_per_epoch = int(num_train_sequences/batch_size)\n",
    "else:\n",
    "    steps_per_epoch = (num_train_sequences//batch_size) + 1\n",
    "\n",
    "if (num_val_sequences%batch_size) == 0:\n",
    "    validation_steps = int(num_val_sequences/batch_size)\n",
    "else:\n",
    "    validation_steps = (num_val_sequences//batch_size) + 1"
   ]
  },
  {
   "cell_type": "markdown",
   "metadata": {},
   "source": [
    "Let us now fit the model. This will start training the model and with the help of the checkpoints, you'll be able to save the model at the end of each epoch."
   ]
  },
  {
   "cell_type": "code",
   "execution_count": 44,
   "metadata": {},
   "outputs": [],
   "source": [
    "num_epochs=25"
   ]
  },
  {
   "cell_type": "code",
   "execution_count": 45,
   "metadata": {
    "scrolled": false
   },
   "outputs": [
    {
     "name": "stderr",
     "output_type": "stream",
     "text": [
      "C:\\Users\\deabh\\anaconda3\\envs\\tf1\\lib\\site-packages\\keras\\engine\\training.py:1972: UserWarning: `Model.fit_generator` is deprecated and will be removed in a future version. Please use `Model.fit`, which supports generators.\n",
      "  warnings.warn('`Model.fit_generator` is deprecated and '\n"
     ]
    },
    {
     "name": "stdout",
     "output_type": "stream",
     "text": [
      "Source path =  D:\\Upgrad Data Science PGDDS\\Course 4 Deep Learning\\Module 6 Deep Learning Case Study\\Project_data\\train ; batch size = 20\n",
      "Epoch 1/25\n",
      "34/34 [==============================] - ETA: 0s - loss: 1.3537 - categorical_accuracy: 0.5053Source path =  D:\\Upgrad Data Science PGDDS\\Course 4 Deep Learning\\Module 6 Deep Learning Case Study\\Project_data\\val ; batch size = 20\n",
      "34/34 [==============================] - 164s 5s/step - loss: 1.3537 - categorical_accuracy: 0.5053 - val_loss: 1.4786 - val_categorical_accuracy: 0.3200\n",
      "\n",
      "Epoch 00001: saving model to model_init_2021-09-1605_37_00.979671\\model-00001-1.35370-0.50528-1.47859-0.32000.h5\n",
      "Epoch 2/25\n",
      "34/34 [==============================] - 55s 2s/step - loss: 1.4433 - categorical_accuracy: 0.4216 - val_loss: 1.8546 - val_categorical_accuracy: 0.2100\n",
      "\n",
      "Epoch 00002: saving model to model_init_2021-09-1605_37_00.979671\\model-00002-1.44334-0.42157-1.85457-0.21000.h5\n",
      "Epoch 3/25\n",
      "34/34 [==============================] - 51s 2s/step - loss: 1.6583 - categorical_accuracy: 0.3333 - val_loss: 1.6066 - val_categorical_accuracy: 0.3100\n",
      "\n",
      "Epoch 00003: saving model to model_init_2021-09-1605_37_00.979671\\model-00003-1.65833-0.33333-1.60659-0.31000.h5\n",
      "Epoch 4/25\n",
      "34/34 [==============================] - 46s 1s/step - loss: 1.5450 - categorical_accuracy: 0.4216 - val_loss: 3.0224 - val_categorical_accuracy: 0.3300\n",
      "\n",
      "Epoch 00004: saving model to model_init_2021-09-1605_37_00.979671\\model-00004-1.54505-0.42157-3.02243-0.33000.h5\n",
      "Epoch 5/25\n",
      "34/34 [==============================] - 47s 1s/step - loss: 1.6886 - categorical_accuracy: 0.3039 - val_loss: 3.1288 - val_categorical_accuracy: 0.3600\n",
      "\n",
      "Epoch 00005: saving model to model_init_2021-09-1605_37_00.979671\\model-00005-1.68859-0.30392-3.12880-0.36000.h5\n",
      "\n",
      "Epoch 00005: ReduceLROnPlateau reducing learning rate to 0.00020000000949949026.\n",
      "Epoch 6/25\n",
      "34/34 [==============================] - 46s 1s/step - loss: 1.5421 - categorical_accuracy: 0.3137 - val_loss: 1.8277 - val_categorical_accuracy: 0.3500\n",
      "\n",
      "Epoch 00006: saving model to model_init_2021-09-1605_37_00.979671\\model-00006-1.54207-0.31373-1.82766-0.35000.h5\n",
      "Epoch 7/25\n",
      "34/34 [==============================] - 49s 1s/step - loss: 1.6259 - categorical_accuracy: 0.3431 - val_loss: 1.9616 - val_categorical_accuracy: 0.4100\n",
      "\n",
      "Epoch 00007: saving model to model_init_2021-09-1605_37_00.979671\\model-00007-1.62594-0.34314-1.96158-0.41000.h5\n",
      "Epoch 8/25\n",
      "34/34 [==============================] - 48s 1s/step - loss: 1.5683 - categorical_accuracy: 0.3529 - val_loss: 2.1284 - val_categorical_accuracy: 0.3500\n",
      "\n",
      "Epoch 00008: saving model to model_init_2021-09-1605_37_00.979671\\model-00008-1.56832-0.35294-2.12836-0.35000.h5\n",
      "Epoch 9/25\n",
      "34/34 [==============================] - 46s 1s/step - loss: 1.6494 - categorical_accuracy: 0.3235 - val_loss: 3.1328 - val_categorical_accuracy: 0.2600\n",
      "\n",
      "Epoch 00009: saving model to model_init_2021-09-1605_37_00.979671\\model-00009-1.64936-0.32353-3.13278-0.26000.h5\n",
      "\n",
      "Epoch 00009: ReduceLROnPlateau reducing learning rate to 4.0000001899898055e-05.\n",
      "Epoch 10/25\n",
      "34/34 [==============================] - 45s 1s/step - loss: 1.2922 - categorical_accuracy: 0.4902 - val_loss: 2.5423 - val_categorical_accuracy: 0.2600\n",
      "\n",
      "Epoch 00010: saving model to model_init_2021-09-1605_37_00.979671\\model-00010-1.29220-0.49020-2.54234-0.26000.h5\n",
      "Epoch 11/25\n",
      "34/34 [==============================] - 50s 2s/step - loss: 1.7839 - categorical_accuracy: 0.3137 - val_loss: 2.4141 - val_categorical_accuracy: 0.3400\n",
      "\n",
      "Epoch 00011: saving model to model_init_2021-09-1605_37_00.979671\\model-00011-1.78387-0.31373-2.41410-0.34000.h5\n",
      "Epoch 12/25\n",
      "34/34 [==============================] - 49s 1s/step - loss: 1.5066 - categorical_accuracy: 0.4020 - val_loss: 2.3336 - val_categorical_accuracy: 0.3000\n",
      "\n",
      "Epoch 00012: saving model to model_init_2021-09-1605_37_00.979671\\model-00012-1.50661-0.40196-2.33357-0.30000.h5\n",
      "Epoch 13/25\n",
      "34/34 [==============================] - 47s 1s/step - loss: 1.4212 - categorical_accuracy: 0.4412 - val_loss: 2.2824 - val_categorical_accuracy: 0.3700\n",
      "\n",
      "Epoch 00013: saving model to model_init_2021-09-1605_37_00.979671\\model-00013-1.42125-0.44118-2.28241-0.37000.h5\n",
      "\n",
      "Epoch 00013: ReduceLROnPlateau reducing learning rate to 8.000000525498762e-06.\n",
      "Epoch 14/25\n",
      "34/34 [==============================] - 47s 1s/step - loss: 1.5704 - categorical_accuracy: 0.3922 - val_loss: 1.7624 - val_categorical_accuracy: 0.4200\n",
      "\n",
      "Epoch 00014: saving model to model_init_2021-09-1605_37_00.979671\\model-00014-1.57036-0.39216-1.76237-0.42000.h5\n",
      "Epoch 15/25\n",
      "34/34 [==============================] - 48s 1s/step - loss: 1.3523 - categorical_accuracy: 0.4314 - val_loss: 2.0610 - val_categorical_accuracy: 0.4000\n",
      "\n",
      "Epoch 00015: saving model to model_init_2021-09-1605_37_00.979671\\model-00015-1.35230-0.43137-2.06102-0.40000.h5\n",
      "Epoch 16/25\n",
      "34/34 [==============================] - 46s 1s/step - loss: 1.5783 - categorical_accuracy: 0.3824 - val_loss: 1.9305 - val_categorical_accuracy: 0.4200\n",
      "\n",
      "Epoch 00016: saving model to model_init_2021-09-1605_37_00.979671\\model-00016-1.57829-0.38235-1.93048-0.42000.h5\n",
      "Epoch 17/25\n",
      "34/34 [==============================] - 46s 1s/step - loss: 1.3083 - categorical_accuracy: 0.4902 - val_loss: 1.7760 - val_categorical_accuracy: 0.4500\n",
      "\n",
      "Epoch 00017: saving model to model_init_2021-09-1605_37_00.979671\\model-00017-1.30835-0.49020-1.77604-0.45000.h5\n",
      "\n",
      "Epoch 00017: ReduceLROnPlateau reducing learning rate to 1.6000001778593287e-06.\n",
      "Epoch 18/25\n",
      "34/34 [==============================] - 45s 1s/step - loss: 1.6697 - categorical_accuracy: 0.3627 - val_loss: 1.8225 - val_categorical_accuracy: 0.4400\n",
      "\n",
      "Epoch 00018: saving model to model_init_2021-09-1605_37_00.979671\\model-00018-1.66974-0.36275-1.82249-0.44000.h5\n",
      "Epoch 19/25\n",
      "34/34 [==============================] - 49s 1s/step - loss: 1.4332 - categorical_accuracy: 0.4902 - val_loss: 1.6116 - val_categorical_accuracy: 0.4200\n",
      "\n",
      "Epoch 00019: saving model to model_init_2021-09-1605_37_00.979671\\model-00019-1.43315-0.49020-1.61165-0.42000.h5\n",
      "Epoch 20/25\n",
      "34/34 [==============================] - 51s 2s/step - loss: 1.4776 - categorical_accuracy: 0.4020 - val_loss: 1.7630 - val_categorical_accuracy: 0.3800\n",
      "\n",
      "Epoch 00020: saving model to model_init_2021-09-1605_37_00.979671\\model-00020-1.47760-0.40196-1.76296-0.38000.h5\n",
      "Epoch 21/25\n",
      "34/34 [==============================] - 47s 1s/step - loss: 1.5829 - categorical_accuracy: 0.3431 - val_loss: 1.7208 - val_categorical_accuracy: 0.4200\n",
      "\n",
      "Epoch 00021: saving model to model_init_2021-09-1605_37_00.979671\\model-00021-1.58287-0.34314-1.72078-0.42000.h5\n",
      "\n",
      "Epoch 00021: ReduceLROnPlateau reducing learning rate to 3.200000264769187e-07.\n",
      "Epoch 22/25\n",
      "34/34 [==============================] - 49s 1s/step - loss: 1.4356 - categorical_accuracy: 0.4118 - val_loss: 1.5960 - val_categorical_accuracy: 0.3900\n",
      "\n",
      "Epoch 00022: saving model to model_init_2021-09-1605_37_00.979671\\model-00022-1.43562-0.41176-1.59603-0.39000.h5\n",
      "Epoch 23/25\n",
      "34/34 [==============================] - 45s 1s/step - loss: 1.5901 - categorical_accuracy: 0.3627 - val_loss: 1.6295 - val_categorical_accuracy: 0.4700\n",
      "\n",
      "Epoch 00023: saving model to model_init_2021-09-1605_37_00.979671\\model-00023-1.59011-0.36275-1.62948-0.47000.h5\n",
      "Epoch 24/25\n",
      "34/34 [==============================] - 52s 2s/step - loss: 1.3046 - categorical_accuracy: 0.4412 - val_loss: 1.5172 - val_categorical_accuracy: 0.4500\n",
      "\n",
      "Epoch 00024: saving model to model_init_2021-09-1605_37_00.979671\\model-00024-1.30458-0.44118-1.51715-0.45000.h5\n",
      "Epoch 25/25\n",
      "34/34 [==============================] - 47s 1s/step - loss: 1.5408 - categorical_accuracy: 0.3922 - val_loss: 1.4812 - val_categorical_accuracy: 0.4900\n",
      "\n",
      "Epoch 00025: saving model to model_init_2021-09-1605_37_00.979671\\model-00025-1.54082-0.39216-1.48116-0.49000.h5\n",
      "\n",
      "Epoch 00025: ReduceLROnPlateau reducing learning rate to 6.400000529538374e-08.\n"
     ]
    },
    {
     "data": {
      "text/plain": [
       "<keras.callbacks.History at 0x27738c9bbe0>"
      ]
     },
     "execution_count": 45,
     "metadata": {},
     "output_type": "execute_result"
    }
   ],
   "source": [
    "model_Conv3D1.fit_generator(train_generator, steps_per_epoch=steps_per_epoch, epochs=num_epochs, verbose=1, \n",
    "                    validation_data=val_generator,callbacks=callbacks_list,\n",
    "                    validation_steps=validation_steps, class_weight=None, workers=1, initial_epoch=0)"
   ]
  },
  {
   "cell_type": "code",
   "execution_count": 46,
   "metadata": {},
   "outputs": [
    {
     "data": {
      "image/png": "[encoded data removed]",
      "text/plain": [
       "<Figure size 1080x288 with 2 Axes>"
      ]
     },
     "metadata": {
      "needs_background": "light"
     },
     "output_type": "display_data"
    }
   ],
   "source": [
    "plot(model_Conv3D1)"
   ]
  },
  {
   "cell_type": "markdown",
   "metadata": {},
   "source": [
    "**This model performs poorly than the previous one.**"
   ]
  },
  {
   "cell_type": "markdown",
   "metadata": {},
   "source": [
    "### Reducing the parameters of the above model"
   ]
  },
  {
   "cell_type": "code",
   "execution_count": 55,
   "metadata": {},
   "outputs": [],
   "source": [
    "model_Conv3D3 = Sequential()\n",
    "model_Conv3D3.add(Conv3D(16, (3, 3, 3),padding='same', input_shape=(19,75,75,3)))\n",
    "model_Conv3D3.add(Activation('relu'))\n",
    "model_Conv3D3.add(BatchNormalization())\n",
    "model_Conv3D3.add(MaxPooling3D(pool_size=(2, 2, 2)))\n",
    "\n",
    "\n",
    "model_Conv3D3.add(Conv3D(32, (3, 3, 3),padding='same'))\n",
    "model_Conv3D3.add(Activation('relu'))\n",
    "model_Conv3D3.add(BatchNormalization())\n",
    "model_Conv3D3.add(MaxPooling3D(pool_size=(2, 2, 2)))\n",
    "\n",
    "model_Conv3D3.add(Conv3D(64, (3, 3, 3),padding='same'))\n",
    "model_Conv3D3.add(Activation('relu'))\n",
    "model_Conv3D3.add(BatchNormalization())\n",
    "model_Conv3D3.add(MaxPooling3D(pool_size=(2, 2, 2)))\n",
    "\n",
    "model_Conv3D3.add(Flatten())\n",
    "#model_Conv3D1.add(Dense(128,activation='relu'))\n",
    "#model_Conv3D1.add(BatchNormalization())\n",
    "#model_Conv3D1.add(Dropout(0.25))\n",
    "\n",
    "model_Conv3D3.add(Dense(64,activation='relu'))\n",
    "model_Conv3D3.add(BatchNormalization())\n",
    "model_Conv3D3.add(Dropout(0.2))\n",
    "\n",
    "\n",
    "model_Conv3D3.add(Dense(5,activation='softmax'))"
   ]
  },
  {
   "cell_type": "code",
   "execution_count": 56,
   "metadata": {},
   "outputs": [
    {
     "name": "stdout",
     "output_type": "stream",
     "text": [
      "Model: \"sequential_7\"\n",
      "_________________________________________________________________\n",
      "Layer (type)                 Output Shape              Param #   \n",
      "=================================================================\n",
      "conv3d_21 (Conv3D)           (None, 19, 75, 75, 16)    1312      \n",
      "_________________________________________________________________\n",
      "activation_21 (Activation)   (None, 19, 75, 75, 16)    0         \n",
      "_________________________________________________________________\n",
      "batch_normalization_33 (Batc (None, 19, 75, 75, 16)    64        \n",
      "_________________________________________________________________\n",
      "max_pooling3d_21 (MaxPooling (None, 9, 37, 37, 16)     0         \n",
      "_________________________________________________________________\n",
      "conv3d_22 (Conv3D)           (None, 9, 37, 37, 32)     13856     \n",
      "_________________________________________________________________\n",
      "activation_22 (Activation)   (None, 9, 37, 37, 32)     0         \n",
      "_________________________________________________________________\n",
      "batch_normalization_34 (Batc (None, 9, 37, 37, 32)     128       \n",
      "_________________________________________________________________\n",
      "max_pooling3d_22 (MaxPooling (None, 4, 18, 18, 32)     0         \n",
      "_________________________________________________________________\n",
      "conv3d_23 (Conv3D)           (None, 4, 18, 18, 64)     55360     \n",
      "_________________________________________________________________\n",
      "activation_23 (Activation)   (None, 4, 18, 18, 64)     0         \n",
      "_________________________________________________________________\n",
      "batch_normalization_35 (Batc (None, 4, 18, 18, 64)     256       \n",
      "_________________________________________________________________\n",
      "max_pooling3d_23 (MaxPooling (None, 2, 9, 9, 64)       0         \n",
      "_________________________________________________________________\n",
      "flatten_7 (Flatten)          (None, 10368)             0         \n",
      "_________________________________________________________________\n",
      "dense_19 (Dense)             (None, 64)                663616    \n",
      "_________________________________________________________________\n",
      "batch_normalization_36 (Batc (None, 64)                256       \n",
      "_________________________________________________________________\n",
      "dropout_4 (Dropout)          (None, 64)                0         \n",
      "_________________________________________________________________\n",
      "dense_20 (Dense)             (None, 5)                 325       \n",
      "=================================================================\n",
      "Total params: 735,173\n",
      "Trainable params: 734,821\n",
      "Non-trainable params: 352\n",
      "_________________________________________________________________\n",
      "None\n"
     ]
    }
   ],
   "source": [
    "optimiser = tf.keras.optimizers.Adam()\n",
    "model_Conv3D3.compile(optimizer=optimiser, loss='categorical_crossentropy', metrics=['categorical_accuracy'])\n",
    "print (model_Conv3D3.summary())"
   ]
  },
  {
   "cell_type": "code",
   "execution_count": 57,
   "metadata": {},
   "outputs": [],
   "source": [
    "train_generator = generator(train_path, train_doc, batch_size)\n",
    "val_generator = generator(val_path, val_doc, batch_size)"
   ]
  },
  {
   "cell_type": "markdown",
   "metadata": {},
   "source": [
    "The `steps_per_epoch` and `validation_steps` are used by `fit_generator` to decide the number of next() calls it need to make."
   ]
  },
  {
   "cell_type": "code",
   "execution_count": 58,
   "metadata": {},
   "outputs": [],
   "source": [
    "if (num_train_sequences%batch_size) == 0:\n",
    "    steps_per_epoch = int(num_train_sequences/batch_size)\n",
    "else:\n",
    "    steps_per_epoch = (num_train_sequences//batch_size) + 1\n",
    "\n",
    "if (num_val_sequences%batch_size) == 0:\n",
    "    validation_steps = int(num_val_sequences/batch_size)\n",
    "else:\n",
    "    validation_steps = (num_val_sequences//batch_size) + 1"
   ]
  },
  {
   "cell_type": "markdown",
   "metadata": {},
   "source": [
    "Let us now fit the model. This will start training the model and with the help of the checkpoints, you'll be able to save the model at the end of each epoch."
   ]
  },
  {
   "cell_type": "code",
   "execution_count": 59,
   "metadata": {},
   "outputs": [],
   "source": [
    "num_epochs=20"
   ]
  },
  {
   "cell_type": "code",
   "execution_count": 60,
   "metadata": {
    "scrolled": false
   },
   "outputs": [
    {
     "name": "stdout",
     "output_type": "stream",
     "text": [
      "Source path =  D:\\Upgrad Data Science PGDDS\\Course 4 Deep Learning\\Module 6 Deep Learning Case Study\\Project_data\\train ; batch size = 20\n",
      "Epoch 1/20\n",
      "12/34 [=========>....................] - ETA: 1:23 - loss: 1.3608 - categorical_accuracy: 0.4917"
     ]
    },
    {
     "ename": "KeyboardInterrupt",
     "evalue": "",
     "output_type": "error",
     "traceback": [
      "\u001b[1;31m---------------------------------------------------------------------------\u001b[0m",
      "\u001b[1;31mKeyboardInterrupt\u001b[0m                         Traceback (most recent call last)",
      "\u001b[1;32m<ipython-input-60-54f0995922d3>\u001b[0m in \u001b[0;36m<module>\u001b[1;34m\u001b[0m\n\u001b[1;32m----> 1\u001b[1;33m model_Conv3D3.fit_generator(train_generator, steps_per_epoch=steps_per_epoch, epochs=num_epochs, verbose=1, \n\u001b[0m\u001b[0;32m      2\u001b[0m                     \u001b[0mvalidation_data\u001b[0m\u001b[1;33m=\u001b[0m\u001b[0mval_generator\u001b[0m\u001b[1;33m,\u001b[0m\u001b[0mcallbacks\u001b[0m\u001b[1;33m=\u001b[0m\u001b[0mcallbacks_list\u001b[0m\u001b[1;33m,\u001b[0m\u001b[1;33m\u001b[0m\u001b[1;33m\u001b[0m\u001b[0m\n\u001b[0;32m      3\u001b[0m                     validation_steps=validation_steps, class_weight=None, workers=1, initial_epoch=0)\n",
      "\u001b[1;32m~\\anaconda3\\envs\\tf1\\lib\\site-packages\\keras\\engine\\training.py\u001b[0m in \u001b[0;36mfit_generator\u001b[1;34m(self, generator, steps_per_epoch, epochs, verbose, callbacks, validation_data, validation_steps, validation_freq, class_weight, max_queue_size, workers, use_multiprocessing, shuffle, initial_epoch)\u001b[0m\n\u001b[0;32m   1973\u001b[0m                   \u001b[1;34m'will be removed in a future version. '\u001b[0m\u001b[1;33m\u001b[0m\u001b[1;33m\u001b[0m\u001b[0m\n\u001b[0;32m   1974\u001b[0m                   'Please use `Model.fit`, which supports generators.')\n\u001b[1;32m-> 1975\u001b[1;33m     return self.fit(\n\u001b[0m\u001b[0;32m   1976\u001b[0m         \u001b[0mgenerator\u001b[0m\u001b[1;33m,\u001b[0m\u001b[1;33m\u001b[0m\u001b[1;33m\u001b[0m\u001b[0m\n\u001b[0;32m   1977\u001b[0m         \u001b[0msteps_per_epoch\u001b[0m\u001b[1;33m=\u001b[0m\u001b[0msteps_per_epoch\u001b[0m\u001b[1;33m,\u001b[0m\u001b[1;33m\u001b[0m\u001b[1;33m\u001b[0m\u001b[0m\n",
      "\u001b[1;32m~\\anaconda3\\envs\\tf1\\lib\\site-packages\\keras\\engine\\training.py\u001b[0m in \u001b[0;36mfit\u001b[1;34m(self, x, y, batch_size, epochs, verbose, callbacks, validation_split, validation_data, shuffle, class_weight, sample_weight, initial_epoch, steps_per_epoch, validation_steps, validation_batch_size, validation_freq, max_queue_size, workers, use_multiprocessing)\u001b[0m\n\u001b[0;32m   1182\u001b[0m                 _r=1):\n\u001b[0;32m   1183\u001b[0m               \u001b[0mcallbacks\u001b[0m\u001b[1;33m.\u001b[0m\u001b[0mon_train_batch_begin\u001b[0m\u001b[1;33m(\u001b[0m\u001b[0mstep\u001b[0m\u001b[1;33m)\u001b[0m\u001b[1;33m\u001b[0m\u001b[1;33m\u001b[0m\u001b[0m\n\u001b[1;32m-> 1184\u001b[1;33m               \u001b[0mtmp_logs\u001b[0m \u001b[1;33m=\u001b[0m \u001b[0mself\u001b[0m\u001b[1;33m.\u001b[0m\u001b[0mtrain_function\u001b[0m\u001b[1;33m(\u001b[0m\u001b[0miterator\u001b[0m\u001b[1;33m)\u001b[0m\u001b[1;33m\u001b[0m\u001b[1;33m\u001b[0m\u001b[0m\n\u001b[0m\u001b[0;32m   1185\u001b[0m               \u001b[1;32mif\u001b[0m \u001b[0mdata_handler\u001b[0m\u001b[1;33m.\u001b[0m\u001b[0mshould_sync\u001b[0m\u001b[1;33m:\u001b[0m\u001b[1;33m\u001b[0m\u001b[1;33m\u001b[0m\u001b[0m\n\u001b[0;32m   1186\u001b[0m                 \u001b[0mcontext\u001b[0m\u001b[1;33m.\u001b[0m\u001b[0masync_wait\u001b[0m\u001b[1;33m(\u001b[0m\u001b[1;33m)\u001b[0m\u001b[1;33m\u001b[0m\u001b[1;33m\u001b[0m\u001b[0m\n",
      "\u001b[1;32m~\\AppData\\Roaming\\Python\\Python38\\site-packages\\tensorflow\\python\\eager\\def_function.py\u001b[0m in \u001b[0;36m__call__\u001b[1;34m(self, *args, **kwds)\u001b[0m\n\u001b[0;32m    883\u001b[0m \u001b[1;33m\u001b[0m\u001b[0m\n\u001b[0;32m    884\u001b[0m       \u001b[1;32mwith\u001b[0m \u001b[0mOptionalXlaContext\u001b[0m\u001b[1;33m(\u001b[0m\u001b[0mself\u001b[0m\u001b[1;33m.\u001b[0m\u001b[0m_jit_compile\u001b[0m\u001b[1;33m)\u001b[0m\u001b[1;33m:\u001b[0m\u001b[1;33m\u001b[0m\u001b[1;33m\u001b[0m\u001b[0m\n\u001b[1;32m--> 885\u001b[1;33m         \u001b[0mresult\u001b[0m \u001b[1;33m=\u001b[0m \u001b[0mself\u001b[0m\u001b[1;33m.\u001b[0m\u001b[0m_call\u001b[0m\u001b[1;33m(\u001b[0m\u001b[1;33m*\u001b[0m\u001b[0margs\u001b[0m\u001b[1;33m,\u001b[0m \u001b[1;33m**\u001b[0m\u001b[0mkwds\u001b[0m\u001b[1;33m)\u001b[0m\u001b[1;33m\u001b[0m\u001b[1;33m\u001b[0m\u001b[0m\n\u001b[0m\u001b[0;32m    886\u001b[0m \u001b[1;33m\u001b[0m\u001b[0m\n\u001b[0;32m    887\u001b[0m       \u001b[0mnew_tracing_count\u001b[0m \u001b[1;33m=\u001b[0m \u001b[0mself\u001b[0m\u001b[1;33m.\u001b[0m\u001b[0mexperimental_get_tracing_count\u001b[0m\u001b[1;33m(\u001b[0m\u001b[1;33m)\u001b[0m\u001b[1;33m\u001b[0m\u001b[1;33m\u001b[0m\u001b[0m\n",
      "\u001b[1;32m~\\AppData\\Roaming\\Python\\Python38\\site-packages\\tensorflow\\python\\eager\\def_function.py\u001b[0m in \u001b[0;36m_call\u001b[1;34m(self, *args, **kwds)\u001b[0m\n\u001b[0;32m    915\u001b[0m       \u001b[1;31m# In this case we have created variables on the first call, so we run the\u001b[0m\u001b[1;33m\u001b[0m\u001b[1;33m\u001b[0m\u001b[1;33m\u001b[0m\u001b[0m\n\u001b[0;32m    916\u001b[0m       \u001b[1;31m# defunned version which is guaranteed to never create variables.\u001b[0m\u001b[1;33m\u001b[0m\u001b[1;33m\u001b[0m\u001b[1;33m\u001b[0m\u001b[0m\n\u001b[1;32m--> 917\u001b[1;33m       \u001b[1;32mreturn\u001b[0m \u001b[0mself\u001b[0m\u001b[1;33m.\u001b[0m\u001b[0m_stateless_fn\u001b[0m\u001b[1;33m(\u001b[0m\u001b[1;33m*\u001b[0m\u001b[0margs\u001b[0m\u001b[1;33m,\u001b[0m \u001b[1;33m**\u001b[0m\u001b[0mkwds\u001b[0m\u001b[1;33m)\u001b[0m  \u001b[1;31m# pylint: disable=not-callable\u001b[0m\u001b[1;33m\u001b[0m\u001b[1;33m\u001b[0m\u001b[0m\n\u001b[0m\u001b[0;32m    918\u001b[0m     \u001b[1;32melif\u001b[0m \u001b[0mself\u001b[0m\u001b[1;33m.\u001b[0m\u001b[0m_stateful_fn\u001b[0m \u001b[1;32mis\u001b[0m \u001b[1;32mnot\u001b[0m \u001b[1;32mNone\u001b[0m\u001b[1;33m:\u001b[0m\u001b[1;33m\u001b[0m\u001b[1;33m\u001b[0m\u001b[0m\n\u001b[0;32m    919\u001b[0m       \u001b[1;31m# Release the lock early so that multiple threads can perform the call\u001b[0m\u001b[1;33m\u001b[0m\u001b[1;33m\u001b[0m\u001b[1;33m\u001b[0m\u001b[0m\n",
      "\u001b[1;32m~\\AppData\\Roaming\\Python\\Python38\\site-packages\\tensorflow\\python\\eager\\function.py\u001b[0m in \u001b[0;36m__call__\u001b[1;34m(self, *args, **kwargs)\u001b[0m\n\u001b[0;32m   3037\u001b[0m       (graph_function,\n\u001b[0;32m   3038\u001b[0m        filtered_flat_args) = self._maybe_define_function(args, kwargs)\n\u001b[1;32m-> 3039\u001b[1;33m     return graph_function._call_flat(\n\u001b[0m\u001b[0;32m   3040\u001b[0m         filtered_flat_args, captured_inputs=graph_function.captured_inputs)  # pylint: disable=protected-access\n\u001b[0;32m   3041\u001b[0m \u001b[1;33m\u001b[0m\u001b[0m\n",
      "\u001b[1;32m~\\AppData\\Roaming\\Python\\Python38\\site-packages\\tensorflow\\python\\eager\\function.py\u001b[0m in \u001b[0;36m_call_flat\u001b[1;34m(self, args, captured_inputs, cancellation_manager)\u001b[0m\n\u001b[0;32m   1961\u001b[0m         and executing_eagerly):\n\u001b[0;32m   1962\u001b[0m       \u001b[1;31m# No tape is watching; skip to running the function.\u001b[0m\u001b[1;33m\u001b[0m\u001b[1;33m\u001b[0m\u001b[1;33m\u001b[0m\u001b[0m\n\u001b[1;32m-> 1963\u001b[1;33m       return self._build_call_outputs(self._inference_function.call(\n\u001b[0m\u001b[0;32m   1964\u001b[0m           ctx, args, cancellation_manager=cancellation_manager))\n\u001b[0;32m   1965\u001b[0m     forward_backward = self._select_forward_and_backward_functions(\n",
      "\u001b[1;32m~\\AppData\\Roaming\\Python\\Python38\\site-packages\\tensorflow\\python\\eager\\function.py\u001b[0m in \u001b[0;36mcall\u001b[1;34m(self, ctx, args, cancellation_manager)\u001b[0m\n\u001b[0;32m    589\u001b[0m       \u001b[1;32mwith\u001b[0m \u001b[0m_InterpolateFunctionError\u001b[0m\u001b[1;33m(\u001b[0m\u001b[0mself\u001b[0m\u001b[1;33m)\u001b[0m\u001b[1;33m:\u001b[0m\u001b[1;33m\u001b[0m\u001b[1;33m\u001b[0m\u001b[0m\n\u001b[0;32m    590\u001b[0m         \u001b[1;32mif\u001b[0m \u001b[0mcancellation_manager\u001b[0m \u001b[1;32mis\u001b[0m \u001b[1;32mNone\u001b[0m\u001b[1;33m:\u001b[0m\u001b[1;33m\u001b[0m\u001b[1;33m\u001b[0m\u001b[0m\n\u001b[1;32m--> 591\u001b[1;33m           outputs = execute.execute(\n\u001b[0m\u001b[0;32m    592\u001b[0m               \u001b[0mstr\u001b[0m\u001b[1;33m(\u001b[0m\u001b[0mself\u001b[0m\u001b[1;33m.\u001b[0m\u001b[0msignature\u001b[0m\u001b[1;33m.\u001b[0m\u001b[0mname\u001b[0m\u001b[1;33m)\u001b[0m\u001b[1;33m,\u001b[0m\u001b[1;33m\u001b[0m\u001b[1;33m\u001b[0m\u001b[0m\n\u001b[0;32m    593\u001b[0m               \u001b[0mnum_outputs\u001b[0m\u001b[1;33m=\u001b[0m\u001b[0mself\u001b[0m\u001b[1;33m.\u001b[0m\u001b[0m_num_outputs\u001b[0m\u001b[1;33m,\u001b[0m\u001b[1;33m\u001b[0m\u001b[1;33m\u001b[0m\u001b[0m\n",
      "\u001b[1;32m~\\AppData\\Roaming\\Python\\Python38\\site-packages\\tensorflow\\python\\eager\\execute.py\u001b[0m in \u001b[0;36mquick_execute\u001b[1;34m(op_name, num_outputs, inputs, attrs, ctx, name)\u001b[0m\n\u001b[0;32m     57\u001b[0m   \u001b[1;32mtry\u001b[0m\u001b[1;33m:\u001b[0m\u001b[1;33m\u001b[0m\u001b[1;33m\u001b[0m\u001b[0m\n\u001b[0;32m     58\u001b[0m     \u001b[0mctx\u001b[0m\u001b[1;33m.\u001b[0m\u001b[0mensure_initialized\u001b[0m\u001b[1;33m(\u001b[0m\u001b[1;33m)\u001b[0m\u001b[1;33m\u001b[0m\u001b[1;33m\u001b[0m\u001b[0m\n\u001b[1;32m---> 59\u001b[1;33m     tensors = pywrap_tfe.TFE_Py_Execute(ctx._handle, device_name, op_name,\n\u001b[0m\u001b[0;32m     60\u001b[0m                                         inputs, attrs, num_outputs)\n\u001b[0;32m     61\u001b[0m   \u001b[1;32mexcept\u001b[0m \u001b[0mcore\u001b[0m\u001b[1;33m.\u001b[0m\u001b[0m_NotOkStatusException\u001b[0m \u001b[1;32mas\u001b[0m \u001b[0me\u001b[0m\u001b[1;33m:\u001b[0m\u001b[1;33m\u001b[0m\u001b[1;33m\u001b[0m\u001b[0m\n",
      "\u001b[1;31mKeyboardInterrupt\u001b[0m: "
     ]
    }
   ],
   "source": [
    "model_Conv3D3.fit_generator(train_generator, steps_per_epoch=steps_per_epoch, epochs=num_epochs, verbose=1, \n",
    "                    validation_data=val_generator,callbacks=callbacks_list,\n",
    "                    validation_steps=validation_steps, class_weight=None, workers=1, initial_epoch=0)"
   ]
  },
  {
   "cell_type": "code",
   "execution_count": 54,
   "metadata": {},
   "outputs": [
    {
     "data": {
      "image/png": "[encoded data removed]",
      "text/plain": [
       "<Figure size 1080x288 with 2 Axes>"
      ]
     },
     "metadata": {
      "needs_background": "light"
     },
     "output_type": "display_data"
    }
   ],
   "source": [
    "plot(model_Conv3D3)"
   ]
  },
  {
   "cell_type": "markdown",
   "metadata": {},
   "source": [
    "**Though the accuracy has impproved than the previous model but still this model is not that good for this data.**"
   ]
  },
  {
   "cell_type": "markdown",
   "metadata": {},
   "source": [
    "## Conv2D with  LSTM Model"
   ]
  },
  {
   "cell_type": "code",
   "execution_count": 61,
   "metadata": {},
   "outputs": [],
   "source": [
    "from keras.models import Sequential, Model\n",
    "from keras.layers import Dense, GRU, Flatten, TimeDistributed, Flatten, BatchNormalization, Activation\n",
    "from keras.layers.convolutional import Conv3D, MaxPooling3D,Conv2D,MaxPooling2D\n",
    "from keras.callbacks import ModelCheckpoint, ReduceLROnPlateau,EarlyStopping\n",
    "from keras import optimizers\n",
    "from keras.layers import Dense, Softmax, Dropout,LSTM"
   ]
  },
  {
   "cell_type": "code",
   "execution_count": 62,
   "metadata": {},
   "outputs": [],
   "source": [
    "model_CNN_LSTM = Sequential()\n",
    "\n",
    "model_CNN_LSTM.add(TimeDistributed(Conv2D(16, (3, 3) , padding='same', activation='relu'),\n",
    "                                  input_shape=(19,75,75,3)))\n",
    "model_CNN_LSTM.add(TimeDistributed(BatchNormalization()))\n",
    "model_CNN_LSTM.add(TimeDistributed(MaxPooling2D((2, 2))))\n",
    "        \n",
    "model_CNN_LSTM.add(TimeDistributed(Conv2D(32, (3, 3) , padding='same', activation='relu')))\n",
    "model_CNN_LSTM.add(TimeDistributed(BatchNormalization()))\n",
    "model_CNN_LSTM.add(TimeDistributed(MaxPooling2D((2, 2))))\n",
    "        \n",
    "model_CNN_LSTM.add(TimeDistributed(Conv2D(64, (3, 3) , padding='same', activation='relu')))\n",
    "model_CNN_LSTM.add(TimeDistributed(BatchNormalization()))\n",
    "model_CNN_LSTM.add(TimeDistributed(MaxPooling2D((2, 2))))\n",
    "        \n",
    "model_CNN_LSTM.add(TimeDistributed(Conv2D(128, (3, 3) , padding='same', activation='relu')))\n",
    "model_CNN_LSTM.add(TimeDistributed(BatchNormalization()))\n",
    "model_CNN_LSTM.add(TimeDistributed(MaxPooling2D((2, 2))))\n",
    "        \n",
    "model_CNN_LSTM.add(TimeDistributed(Conv2D(256, (3, 3) , padding='same', activation='relu')))\n",
    "model_CNN_LSTM.add(TimeDistributed(BatchNormalization()))\n",
    "model_CNN_LSTM.add(TimeDistributed(MaxPooling2D((2, 2))))\n",
    "\n",
    "model_CNN_LSTM.add(TimeDistributed(Flatten()))\n",
    "\n",
    "\n",
    "model_CNN_LSTM.add(LSTM(128))\n",
    "        \n",
    "model_CNN_LSTM.add(Dense(128,activation='relu'))\n",
    "model_CNN_LSTM.add(Dropout(0.2))\n",
    "        \n",
    "model_CNN_LSTM.add(Dense(5, activation='softmax'))"
   ]
  },
  {
   "cell_type": "markdown",
   "metadata": {},
   "source": [
    "Now that you have written the model, the next step is to `compile` the model. When you print the `summary` of the model, you'll see the total number of parameters you have to train."
   ]
  },
  {
   "cell_type": "code",
   "execution_count": 63,
   "metadata": {},
   "outputs": [
    {
     "name": "stdout",
     "output_type": "stream",
     "text": [
      "Model: \"sequential_8\"\n",
      "_________________________________________________________________\n",
      "Layer (type)                 Output Shape              Param #   \n",
      "=================================================================\n",
      "time_distributed (TimeDistri (None, 19, 75, 75, 16)    448       \n",
      "_________________________________________________________________\n",
      "time_distributed_1 (TimeDist (None, 19, 75, 75, 16)    64        \n",
      "_________________________________________________________________\n",
      "time_distributed_2 (TimeDist (None, 19, 37, 37, 16)    0         \n",
      "_________________________________________________________________\n",
      "time_distributed_3 (TimeDist (None, 19, 37, 37, 32)    4640      \n",
      "_________________________________________________________________\n",
      "time_distributed_4 (TimeDist (None, 19, 37, 37, 32)    128       \n",
      "_________________________________________________________________\n",
      "time_distributed_5 (TimeDist (None, 19, 18, 18, 32)    0         \n",
      "_________________________________________________________________\n",
      "time_distributed_6 (TimeDist (None, 19, 18, 18, 64)    18496     \n",
      "_________________________________________________________________\n",
      "time_distributed_7 (TimeDist (None, 19, 18, 18, 64)    256       \n",
      "_________________________________________________________________\n",
      "time_distributed_8 (TimeDist (None, 19, 9, 9, 64)      0         \n",
      "_________________________________________________________________\n",
      "time_distributed_9 (TimeDist (None, 19, 9, 9, 128)     73856     \n",
      "_________________________________________________________________\n",
      "time_distributed_10 (TimeDis (None, 19, 9, 9, 128)     512       \n",
      "_________________________________________________________________\n",
      "time_distributed_11 (TimeDis (None, 19, 4, 4, 128)     0         \n",
      "_________________________________________________________________\n",
      "time_distributed_12 (TimeDis (None, 19, 4, 4, 256)     295168    \n",
      "_________________________________________________________________\n",
      "time_distributed_13 (TimeDis (None, 19, 4, 4, 256)     1024      \n",
      "_________________________________________________________________\n",
      "time_distributed_14 (TimeDis (None, 19, 2, 2, 256)     0         \n",
      "_________________________________________________________________\n",
      "time_distributed_15 (TimeDis (None, 19, 1024)          0         \n",
      "_________________________________________________________________\n",
      "lstm (LSTM)                  (None, 128)               590336    \n",
      "_________________________________________________________________\n",
      "dense_21 (Dense)             (None, 128)               16512     \n",
      "_________________________________________________________________\n",
      "dropout_5 (Dropout)          (None, 128)               0         \n",
      "_________________________________________________________________\n",
      "dense_22 (Dense)             (None, 5)                 645       \n",
      "=================================================================\n",
      "Total params: 1,002,085\n",
      "Trainable params: 1,001,093\n",
      "Non-trainable params: 992\n",
      "_________________________________________________________________\n",
      "None\n"
     ]
    }
   ],
   "source": [
    "optimiser = tf.keras.optimizers.Adam()\n",
    "model_CNN_LSTM.compile(optimizer=optimiser, loss='categorical_crossentropy', metrics=['categorical_accuracy'])\n",
    "print (model_CNN_LSTM.summary())"
   ]
  },
  {
   "cell_type": "code",
   "execution_count": 64,
   "metadata": {},
   "outputs": [],
   "source": [
    "train_generator = generator(train_path, train_doc, batch_size)\n",
    "val_generator = generator(val_path, val_doc, batch_size)"
   ]
  },
  {
   "cell_type": "markdown",
   "metadata": {},
   "source": [
    "The `steps_per_epoch` and `validation_steps` are used by `fit_generator` to decide the number of next() calls it need to make."
   ]
  },
  {
   "cell_type": "code",
   "execution_count": 65,
   "metadata": {},
   "outputs": [],
   "source": [
    "if (num_train_sequences%batch_size) == 0:\n",
    "    steps_per_epoch = int(num_train_sequences/batch_size)\n",
    "else:\n",
    "    steps_per_epoch = (num_train_sequences//batch_size) + 1\n",
    "\n",
    "if (num_val_sequences%batch_size) == 0:\n",
    "    validation_steps = int(num_val_sequences/batch_size)\n",
    "else:\n",
    "    validation_steps = (num_val_sequences//batch_size) + 1"
   ]
  },
  {
   "cell_type": "markdown",
   "metadata": {},
   "source": [
    "Let us now fit the model. This will start training the model and with the help of the checkpoints, you'll be able to save the model at the end of each epoch."
   ]
  },
  {
   "cell_type": "code",
   "execution_count": 66,
   "metadata": {
    "scrolled": false
   },
   "outputs": [
    {
     "name": "stdout",
     "output_type": "stream",
     "text": [
      "Source path =  D:\\Upgrad Data Science PGDDS\\Course 4 Deep Learning\\Module 6 Deep Learning Case Study\\Project_data\\train ; batch size = 20\n",
      "Epoch 1/20\n",
      "34/34 [==============================] - ETA: 0s - loss: 1.2519 - categorical_accuracy: 0.5083Source path =  D:\\Upgrad Data Science PGDDS\\Course 4 Deep Learning\\Module 6 Deep Learning Case Study\\Project_data\\val ; batch size = 20\n",
      "34/34 [==============================] - 149s 4s/step - loss: 1.2519 - categorical_accuracy: 0.5083 - val_loss: 1.8168 - val_categorical_accuracy: 0.1600\n",
      "\n",
      "Epoch 00001: saving model to model_init_2021-09-1605_37_00.979671\\model-00001-1.25191-0.50830-1.81678-0.16000.h5\n",
      "Epoch 2/20\n",
      "34/34 [==============================] - 39s 1s/step - loss: 1.1998 - categorical_accuracy: 0.4706 - val_loss: 2.2780 - val_categorical_accuracy: 0.1700\n",
      "\n",
      "Epoch 00002: saving model to model_init_2021-09-1605_37_00.979671\\model-00002-1.19979-0.47059-2.27798-0.17000.h5\n",
      "Epoch 3/20\n",
      "34/34 [==============================] - 48s 1s/step - loss: 1.2019 - categorical_accuracy: 0.5294 - val_loss: 2.4092 - val_categorical_accuracy: 0.1600\n",
      "\n",
      "Epoch 00003: saving model to model_init_2021-09-1605_37_00.979671\\model-00003-1.20188-0.52941-2.40917-0.16000.h5\n",
      "Epoch 4/20\n",
      "34/34 [==============================] - 47s 1s/step - loss: 1.2633 - categorical_accuracy: 0.4706 - val_loss: 1.9497 - val_categorical_accuracy: 0.2700\n",
      "\n",
      "Epoch 00004: saving model to model_init_2021-09-1605_37_00.979671\\model-00004-1.26329-0.47059-1.94970-0.27000.h5\n",
      "Epoch 5/20\n",
      "34/34 [==============================] - 50s 2s/step - loss: 1.3514 - categorical_accuracy: 0.4706 - val_loss: 2.1434 - val_categorical_accuracy: 0.1900\n",
      "\n",
      "Epoch 00005: saving model to model_init_2021-09-1605_37_00.979671\\model-00005-1.35142-0.47059-2.14338-0.19000.h5\n",
      "\n",
      "Epoch 00005: ReduceLROnPlateau reducing learning rate to 0.00020000000949949026.\n",
      "Epoch 6/20\n",
      "34/34 [==============================] - 50s 2s/step - loss: 1.1924 - categorical_accuracy: 0.5000 - val_loss: 2.1685 - val_categorical_accuracy: 0.2700\n",
      "\n",
      "Epoch 00006: saving model to model_init_2021-09-1605_37_00.979671\\model-00006-1.19242-0.50000-2.16852-0.27000.h5\n",
      "Epoch 7/20\n",
      "34/34 [==============================] - 59s 2s/step - loss: 1.0797 - categorical_accuracy: 0.5882 - val_loss: 2.1369 - val_categorical_accuracy: 0.3000\n",
      "\n",
      "Epoch 00007: saving model to model_init_2021-09-1605_37_00.979671\\model-00007-1.07970-0.58824-2.13693-0.30000.h5\n",
      "Epoch 8/20\n",
      "34/34 [==============================] - 47s 1s/step - loss: 1.1520 - categorical_accuracy: 0.5686 - val_loss: 2.0190 - val_categorical_accuracy: 0.3200\n",
      "\n",
      "Epoch 00008: saving model to model_init_2021-09-1605_37_00.979671\\model-00008-1.15200-0.56863-2.01903-0.32000.h5\n",
      "Epoch 9/20\n",
      "34/34 [==============================] - 48s 1s/step - loss: 0.8656 - categorical_accuracy: 0.6863 - val_loss: 2.1527 - val_categorical_accuracy: 0.3500\n",
      "\n",
      "Epoch 00009: saving model to model_init_2021-09-1605_37_00.979671\\model-00009-0.86564-0.68627-2.15272-0.35000.h5\n",
      "\n",
      "Epoch 00009: ReduceLROnPlateau reducing learning rate to 4.0000001899898055e-05.\n",
      "Epoch 10/20\n",
      "34/34 [==============================] - 42s 1s/step - loss: 0.8588 - categorical_accuracy: 0.6471 - val_loss: 1.9121 - val_categorical_accuracy: 0.4100\n",
      "\n",
      "Epoch 00010: saving model to model_init_2021-09-1605_37_00.979671\\model-00010-0.85882-0.64706-1.91214-0.41000.h5\n",
      "Epoch 11/20\n",
      "34/34 [==============================] - 38s 1s/step - loss: 0.8886 - categorical_accuracy: 0.6863 - val_loss: 1.8779 - val_categorical_accuracy: 0.4100\n",
      "\n",
      "Epoch 00011: saving model to model_init_2021-09-1605_37_00.979671\\model-00011-0.88855-0.68627-1.87786-0.41000.h5\n",
      "Epoch 12/20\n",
      "34/34 [==============================] - 36s 1s/step - loss: 0.7619 - categorical_accuracy: 0.7549 - val_loss: 1.6230 - val_categorical_accuracy: 0.4500\n",
      "\n",
      "Epoch 00012: saving model to model_init_2021-09-1605_37_00.979671\\model-00012-0.76187-0.75490-1.62297-0.45000.h5\n",
      "Epoch 13/20\n",
      "34/34 [==============================] - 34s 1s/step - loss: 0.8470 - categorical_accuracy: 0.6569 - val_loss: 1.6414 - val_categorical_accuracy: 0.4300\n",
      "\n",
      "Epoch 00013: saving model to model_init_2021-09-1605_37_00.979671\\model-00013-0.84696-0.65686-1.64143-0.43000.h5\n",
      "Epoch 14/20\n",
      "34/34 [==============================] - 44s 1s/step - loss: 0.7916 - categorical_accuracy: 0.7255 - val_loss: 1.3238 - val_categorical_accuracy: 0.5300\n",
      "\n",
      "Epoch 00014: saving model to model_init_2021-09-1605_37_00.979671\\model-00014-0.79165-0.72549-1.32378-0.53000.h5\n",
      "Epoch 15/20\n",
      "34/34 [==============================] - 56s 2s/step - loss: 0.7321 - categorical_accuracy: 0.7549 - val_loss: 1.3515 - val_categorical_accuracy: 0.4900\n",
      "\n",
      "Epoch 00015: saving model to model_init_2021-09-1605_37_00.979671\\model-00015-0.73213-0.75490-1.35151-0.49000.h5\n",
      "Epoch 16/20\n",
      "34/34 [==============================] - 51s 2s/step - loss: 0.6995 - categorical_accuracy: 0.7941 - val_loss: 1.1726 - val_categorical_accuracy: 0.5000\n",
      "\n",
      "Epoch 00016: saving model to model_init_2021-09-1605_37_00.979671\\model-00016-0.69948-0.79412-1.17257-0.50000.h5\n",
      "Epoch 17/20\n",
      "34/34 [==============================] - 53s 2s/step - loss: 0.8240 - categorical_accuracy: 0.6765 - val_loss: 1.0531 - val_categorical_accuracy: 0.5500\n",
      "\n",
      "Epoch 00017: saving model to model_init_2021-09-1605_37_00.979671\\model-00017-0.82403-0.67647-1.05309-0.55000.h5\n",
      "Epoch 18/20\n",
      "34/34 [==============================] - 51s 2s/step - loss: 0.8021 - categorical_accuracy: 0.7255 - val_loss: 1.0178 - val_categorical_accuracy: 0.6500\n",
      "\n",
      "Epoch 00018: saving model to model_init_2021-09-1605_37_00.979671\\model-00018-0.80206-0.72549-1.01778-0.65000.h5\n",
      "Epoch 19/20\n",
      "34/34 [==============================] - 50s 1s/step - loss: 0.7241 - categorical_accuracy: 0.7255 - val_loss: 0.8596 - val_categorical_accuracy: 0.6700\n",
      "\n",
      "Epoch 00019: saving model to model_init_2021-09-1605_37_00.979671\\model-00019-0.72413-0.72549-0.85961-0.67000.h5\n",
      "Epoch 20/20\n",
      "34/34 [==============================] - 50s 2s/step - loss: 0.8304 - categorical_accuracy: 0.6569 - val_loss: 0.9349 - val_categorical_accuracy: 0.5800\n",
      "\n",
      "Epoch 00020: saving model to model_init_2021-09-1605_37_00.979671\\model-00020-0.83041-0.65686-0.93489-0.58000.h5\n"
     ]
    },
    {
     "data": {
      "text/plain": [
       "<keras.callbacks.History at 0x27733df5460>"
      ]
     },
     "execution_count": 66,
     "metadata": {},
     "output_type": "execute_result"
    }
   ],
   "source": [
    "model_CNN_LSTM.fit_generator(train_generator, steps_per_epoch=steps_per_epoch, epochs=num_epochs, verbose=1, \n",
    "                    validation_data=val_generator,callbacks=callbacks_list,\n",
    "                    validation_steps=validation_steps, class_weight=None, workers=1, initial_epoch=0)"
   ]
  },
  {
   "cell_type": "code",
   "execution_count": 67,
   "metadata": {},
   "outputs": [
    {
     "data": {
      "image/png": "[encoded data removed]",
      "text/plain": [
       "<Figure size 1080x288 with 2 Axes>"
      ]
     },
     "metadata": {
      "needs_background": "light"
     },
     "output_type": "display_data"
    }
   ],
   "source": [
    "plot(model_CNN_LSTM)"
   ]
  },
  {
   "cell_type": "markdown",
   "metadata": {},
   "source": [
    "**THis model performs good for both training and validation set. Accuracy scores are also decent.**"
   ]
  },
  {
   "cell_type": "markdown",
   "metadata": {},
   "source": [
    "### Model with reduced parameters"
   ]
  },
  {
   "cell_type": "code",
   "execution_count": 74,
   "metadata": {},
   "outputs": [],
   "source": [
    "model_CNN_LSTM1 = Sequential()\n",
    "\n",
    "model_CNN_LSTM1.add(TimeDistributed(Conv2D(16, (3, 3) , padding='same', activation='relu'),\n",
    "                                  input_shape=(19,75,75,3)))\n",
    "model_CNN_LSTM1.add(TimeDistributed(BatchNormalization()))\n",
    "model_CNN_LSTM1.add(TimeDistributed(MaxPooling2D((2, 2))))\n",
    "        \n",
    "model_CNN_LSTM1.add(TimeDistributed(Conv2D(32, (3, 3) , padding='same', activation='relu')))\n",
    "model_CNN_LSTM1.add(TimeDistributed(BatchNormalization()))\n",
    "model_CNN_LSTM1.add(TimeDistributed(MaxPooling2D((2, 2))))\n",
    "        \n",
    "model_CNN_LSTM1.add(TimeDistributed(Conv2D(64, (3, 3) , padding='same', activation='relu')))\n",
    "model_CNN_LSTM1.add(TimeDistributed(BatchNormalization()))\n",
    "model_CNN_LSTM1.add(TimeDistributed(MaxPooling2D((2, 2))))\n",
    "        \n",
    "model_CNN_LSTM1.add(TimeDistributed(Conv2D(128, (3, 3) , padding='same', activation='relu')))\n",
    "model_CNN_LSTM1.add(TimeDistributed(BatchNormalization()))\n",
    "model_CNN_LSTM1.add(TimeDistributed(MaxPooling2D((2, 2))))\n",
    "        \n",
    "model_CNN_LSTM1.add(TimeDistributed(Conv2D(256, (3, 3) , padding='same', activation='relu')))\n",
    "model_CNN_LSTM1.add(TimeDistributed(BatchNormalization()))\n",
    "model_CNN_LSTM1.add(TimeDistributed(MaxPooling2D((2, 2))))\n",
    "\n",
    "model_CNN_LSTM1.add(TimeDistributed(Flatten()))\n",
    "\n",
    "model_CNN_LSTM1.add(LSTM(128))\n",
    "        \n",
    "model_CNN_LSTM1.add(Dense(64,activation='relu'))\n",
    "model_CNN_LSTM1.add(Dropout(0.2))\n",
    "        \n",
    "model_CNN_LSTM1.add(Dense(5, activation='softmax'))"
   ]
  },
  {
   "cell_type": "markdown",
   "metadata": {},
   "source": [
    "Now that you have written the model, the next step is to `compile` the model. When you print the `summary` of the model, you'll see the total number of parameters you have to train."
   ]
  },
  {
   "cell_type": "code",
   "execution_count": 75,
   "metadata": {},
   "outputs": [
    {
     "name": "stdout",
     "output_type": "stream",
     "text": [
      "Model: \"sequential_10\"\n",
      "_________________________________________________________________\n",
      "Layer (type)                 Output Shape              Param #   \n",
      "=================================================================\n",
      "time_distributed_32 (TimeDis (None, 19, 75, 75, 16)    448       \n",
      "_________________________________________________________________\n",
      "time_distributed_33 (TimeDis (None, 19, 75, 75, 16)    64        \n",
      "_________________________________________________________________\n",
      "time_distributed_34 (TimeDis (None, 19, 37, 37, 16)    0         \n",
      "_________________________________________________________________\n",
      "time_distributed_35 (TimeDis (None, 19, 37, 37, 32)    4640      \n",
      "_________________________________________________________________\n",
      "time_distributed_36 (TimeDis (None, 19, 37, 37, 32)    128       \n",
      "_________________________________________________________________\n",
      "time_distributed_37 (TimeDis (None, 19, 18, 18, 32)    0         \n",
      "_________________________________________________________________\n",
      "time_distributed_38 (TimeDis (None, 19, 18, 18, 64)    18496     \n",
      "_________________________________________________________________\n",
      "time_distributed_39 (TimeDis (None, 19, 18, 18, 64)    256       \n",
      "_________________________________________________________________\n",
      "time_distributed_40 (TimeDis (None, 19, 9, 9, 64)      0         \n",
      "_________________________________________________________________\n",
      "time_distributed_41 (TimeDis (None, 19, 9, 9, 128)     73856     \n",
      "_________________________________________________________________\n",
      "time_distributed_42 (TimeDis (None, 19, 9, 9, 128)     512       \n",
      "_________________________________________________________________\n",
      "time_distributed_43 (TimeDis (None, 19, 4, 4, 128)     0         \n",
      "_________________________________________________________________\n",
      "time_distributed_44 (TimeDis (None, 19, 4, 4, 256)     295168    \n",
      "_________________________________________________________________\n",
      "time_distributed_45 (TimeDis (None, 19, 4, 4, 256)     1024      \n",
      "_________________________________________________________________\n",
      "time_distributed_46 (TimeDis (None, 19, 2, 2, 256)     0         \n",
      "_________________________________________________________________\n",
      "time_distributed_47 (TimeDis (None, 19, 1024)          0         \n",
      "_________________________________________________________________\n",
      "lstm_2 (LSTM)                (None, 128)               590336    \n",
      "_________________________________________________________________\n",
      "dense_25 (Dense)             (None, 64)                8256      \n",
      "_________________________________________________________________\n",
      "dropout_7 (Dropout)          (None, 64)                0         \n",
      "_________________________________________________________________\n",
      "dense_26 (Dense)             (None, 5)                 325       \n",
      "=================================================================\n",
      "Total params: 993,509\n",
      "Trainable params: 992,517\n",
      "Non-trainable params: 992\n",
      "_________________________________________________________________\n",
      "None\n"
     ]
    }
   ],
   "source": [
    "optimiser = tf.keras.optimizers.Adam()\n",
    "model_CNN_LSTM1.compile(optimizer=optimiser, loss='categorical_crossentropy', metrics=['categorical_accuracy'])\n",
    "print (model_CNN_LSTM1.summary())"
   ]
  },
  {
   "cell_type": "code",
   "execution_count": 76,
   "metadata": {},
   "outputs": [],
   "source": [
    "train_generator = generator(train_path, train_doc, batch_size)\n",
    "val_generator = generator(val_path, val_doc, batch_size)"
   ]
  },
  {
   "cell_type": "markdown",
   "metadata": {},
   "source": [
    "The `steps_per_epoch` and `validation_steps` are used by `fit_generator` to decide the number of next() calls it need to make."
   ]
  },
  {
   "cell_type": "code",
   "execution_count": 77,
   "metadata": {},
   "outputs": [],
   "source": [
    "if (num_train_sequences%batch_size) == 0:\n",
    "    steps_per_epoch = int(num_train_sequences/batch_size)\n",
    "else:\n",
    "    steps_per_epoch = (num_train_sequences//batch_size) + 1\n",
    "\n",
    "if (num_val_sequences%batch_size) == 0:\n",
    "    validation_steps = int(num_val_sequences/batch_size)\n",
    "else:\n",
    "    validation_steps = (num_val_sequences//batch_size) + 1"
   ]
  },
  {
   "cell_type": "markdown",
   "metadata": {},
   "source": [
    "Let us now fit the model. This will start training the model and with the help of the checkpoints, you'll be able to save the model at the end of each epoch."
   ]
  },
  {
   "cell_type": "code",
   "execution_count": 78,
   "metadata": {
    "scrolled": false
   },
   "outputs": [
    {
     "name": "stderr",
     "output_type": "stream",
     "text": [
      "C:\\Users\\deabh\\anaconda3\\envs\\tf1\\lib\\site-packages\\keras\\engine\\training.py:1972: UserWarning: `Model.fit_generator` is deprecated and will be removed in a future version. Please use `Model.fit`, which supports generators.\n",
      "  warnings.warn('`Model.fit_generator` is deprecated and '\n"
     ]
    },
    {
     "name": "stdout",
     "output_type": "stream",
     "text": [
      "Source path =  D:\\Upgrad Data Science PGDDS\\Course 4 Deep Learning\\Module 6 Deep Learning Case Study\\Project_data\\train ; batch size = 20\n",
      "Epoch 1/20\n",
      "34/34 [==============================] - ETA: 0s - loss: 1.4191 - categorical_accuracy: 0.3816Source path =  D:\\Upgrad Data Science PGDDS\\Course 4 Deep Learning\\Module 6 Deep Learning Case Study\\Project_data\\val ; batch size = 20\n",
      "34/34 [==============================] - 165s 5s/step - loss: 1.4191 - categorical_accuracy: 0.3816 - val_loss: 1.5270 - val_categorical_accuracy: 0.3000\n",
      "\n",
      "Epoch 00001: saving model to model_init_2021-09-1605_37_00.979671\\model-00001-1.41913-0.38160-1.52697-0.30000.h5\n",
      "Epoch 2/20\n",
      "34/34 [==============================] - 50s 2s/step - loss: 1.3168 - categorical_accuracy: 0.4706 - val_loss: 1.8275 - val_categorical_accuracy: 0.2200\n",
      "\n",
      "Epoch 00002: saving model to model_init_2021-09-1605_37_00.979671\\model-00002-1.31682-0.47059-1.82752-0.22000.h5\n",
      "Epoch 3/20\n",
      "34/34 [==============================] - 52s 2s/step - loss: 1.4357 - categorical_accuracy: 0.3922 - val_loss: 1.7676 - val_categorical_accuracy: 0.2900\n",
      "\n",
      "Epoch 00003: saving model to model_init_2021-09-1605_37_00.979671\\model-00003-1.43567-0.39216-1.76757-0.29000.h5\n",
      "Epoch 4/20\n",
      "34/34 [==============================] - 50s 2s/step - loss: 1.3840 - categorical_accuracy: 0.4020 - val_loss: 1.7394 - val_categorical_accuracy: 0.2100\n",
      "\n",
      "Epoch 00004: saving model to model_init_2021-09-1605_37_00.979671\\model-00004-1.38395-0.40196-1.73940-0.21000.h5\n",
      "Epoch 5/20\n",
      "34/34 [==============================] - 52s 2s/step - loss: 1.3182 - categorical_accuracy: 0.4314 - val_loss: 2.1621 - val_categorical_accuracy: 0.1800\n",
      "\n",
      "Epoch 00005: saving model to model_init_2021-09-1605_37_00.979671\\model-00005-1.31817-0.43137-2.16210-0.18000.h5\n",
      "\n",
      "Epoch 00005: ReduceLROnPlateau reducing learning rate to 0.00020000000949949026.\n",
      "Epoch 6/20\n",
      "34/34 [==============================] - 48s 1s/step - loss: 1.2680 - categorical_accuracy: 0.4510 - val_loss: 1.9722 - val_categorical_accuracy: 0.2000\n",
      "\n",
      "Epoch 00006: saving model to model_init_2021-09-1605_37_00.979671\\model-00006-1.26801-0.45098-1.97221-0.20000.h5\n",
      "Epoch 7/20\n",
      "34/34 [==============================] - 49s 1s/step - loss: 1.2412 - categorical_accuracy: 0.4608 - val_loss: 1.9014 - val_categorical_accuracy: 0.2600\n",
      "\n",
      "Epoch 00007: saving model to model_init_2021-09-1605_37_00.979671\\model-00007-1.24118-0.46078-1.90139-0.26000.h5\n",
      "Epoch 8/20\n",
      "34/34 [==============================] - 52s 2s/step - loss: 1.1651 - categorical_accuracy: 0.5098 - val_loss: 2.0933 - val_categorical_accuracy: 0.2300\n",
      "\n",
      "Epoch 00008: saving model to model_init_2021-09-1605_37_00.979671\\model-00008-1.16511-0.50980-2.09325-0.23000.h5\n",
      "Epoch 9/20\n",
      "34/34 [==============================] - 56s 2s/step - loss: 1.0558 - categorical_accuracy: 0.6176 - val_loss: 1.9921 - val_categorical_accuracy: 0.3300\n",
      "\n",
      "Epoch 00009: saving model to model_init_2021-09-1605_37_00.979671\\model-00009-1.05576-0.61765-1.99209-0.33000.h5\n",
      "\n",
      "Epoch 00009: ReduceLROnPlateau reducing learning rate to 4.0000001899898055e-05.\n",
      "Epoch 10/20\n",
      "34/34 [==============================] - 51s 2s/step - loss: 0.9296 - categorical_accuracy: 0.7255 - val_loss: 1.8442 - val_categorical_accuracy: 0.3300\n",
      "\n",
      "Epoch 00010: saving model to model_init_2021-09-1605_37_00.979671\\model-00010-0.92955-0.72549-1.84420-0.33000.h5\n",
      "Epoch 11/20\n",
      "34/34 [==============================] - 51s 2s/step - loss: 1.0977 - categorical_accuracy: 0.5980 - val_loss: 1.6784 - val_categorical_accuracy: 0.3600\n",
      "\n",
      "Epoch 00011: saving model to model_init_2021-09-1605_37_00.979671\\model-00011-1.09768-0.59804-1.67844-0.36000.h5\n",
      "Epoch 12/20\n",
      "34/34 [==============================] - 51s 2s/step - loss: 0.9547 - categorical_accuracy: 0.7255 - val_loss: 1.5766 - val_categorical_accuracy: 0.4200\n",
      "\n",
      "Epoch 00012: saving model to model_init_2021-09-1605_37_00.979671\\model-00012-0.95471-0.72549-1.57662-0.42000.h5\n",
      "Epoch 13/20\n",
      "34/34 [==============================] - 47s 1s/step - loss: 0.9744 - categorical_accuracy: 0.6275 - val_loss: 1.4641 - val_categorical_accuracy: 0.3800\n",
      "\n",
      "Epoch 00013: saving model to model_init_2021-09-1605_37_00.979671\\model-00013-0.97442-0.62745-1.46407-0.38000.h5\n",
      "Epoch 14/20\n",
      "34/34 [==============================] - 54s 2s/step - loss: 1.1385 - categorical_accuracy: 0.5980 - val_loss: 1.3331 - val_categorical_accuracy: 0.4600\n",
      "\n",
      "Epoch 00014: saving model to model_init_2021-09-1605_37_00.979671\\model-00014-1.13852-0.59804-1.33314-0.46000.h5\n",
      "Epoch 15/20\n",
      "34/34 [==============================] - 51s 2s/step - loss: 0.9132 - categorical_accuracy: 0.6961 - val_loss: 1.2532 - val_categorical_accuracy: 0.5500\n",
      "\n",
      "Epoch 00015: saving model to model_init_2021-09-1605_37_00.979671\\model-00015-0.91322-0.69608-1.25322-0.55000.h5\n",
      "Epoch 16/20\n",
      "34/34 [==============================] - 50s 2s/step - loss: 0.9581 - categorical_accuracy: 0.6961 - val_loss: 1.2034 - val_categorical_accuracy: 0.5200\n",
      "\n",
      "Epoch 00016: saving model to model_init_2021-09-1605_37_00.979671\\model-00016-0.95808-0.69608-1.20338-0.52000.h5\n",
      "Epoch 17/20\n",
      "34/34 [==============================] - 51s 2s/step - loss: 0.9968 - categorical_accuracy: 0.6275 - val_loss: 1.0846 - val_categorical_accuracy: 0.5500\n",
      "\n",
      "Epoch 00017: saving model to model_init_2021-09-1605_37_00.979671\\model-00017-0.99681-0.62745-1.08457-0.55000.h5\n",
      "Epoch 18/20\n",
      "34/34 [==============================] - 49s 1s/step - loss: 0.9903 - categorical_accuracy: 0.6667 - val_loss: 1.1086 - val_categorical_accuracy: 0.6000\n",
      "\n",
      "Epoch 00018: saving model to model_init_2021-09-1605_37_00.979671\\model-00018-0.99031-0.66667-1.10865-0.60000.h5\n",
      "Epoch 19/20\n",
      "34/34 [==============================] - 52s 2s/step - loss: 0.8401 - categorical_accuracy: 0.7353 - val_loss: 1.0659 - val_categorical_accuracy: 0.5800\n",
      "\n",
      "Epoch 00019: saving model to model_init_2021-09-1605_37_00.979671\\model-00019-0.84014-0.73529-1.06593-0.58000.h5\n",
      "Epoch 20/20\n",
      "34/34 [==============================] - 48s 1s/step - loss: 0.9236 - categorical_accuracy: 0.6961 - val_loss: 0.9885 - val_categorical_accuracy: 0.6500\n",
      "\n",
      "Epoch 00020: saving model to model_init_2021-09-1605_37_00.979671\\model-00020-0.92358-0.69608-0.98851-0.65000.h5\n"
     ]
    },
    {
     "data": {
      "text/plain": [
       "<keras.callbacks.History at 0x27771d4ddf0>"
      ]
     },
     "execution_count": 78,
     "metadata": {},
     "output_type": "execute_result"
    }
   ],
   "source": [
    "model_CNN_LSTM1.fit_generator(train_generator, steps_per_epoch=steps_per_epoch, epochs=num_epochs, verbose=1, \n",
    "                    validation_data=val_generator,callbacks=callbacks_list,\n",
    "                    validation_steps=validation_steps, class_weight=None, workers=1, initial_epoch=0)"
   ]
  },
  {
   "cell_type": "code",
   "execution_count": 79,
   "metadata": {},
   "outputs": [
    {
     "data": {
      "image/png": "[encoded data removed]",
      "text/plain": [
       "<Figure size 1080x288 with 2 Axes>"
      ]
     },
     "metadata": {
      "needs_background": "light"
     },
     "output_type": "display_data"
    }
   ],
   "source": [
    "plot(model_CNN_LSTM1)"
   ]
  },
  {
   "cell_type": "markdown",
   "metadata": {},
   "source": [
    "**The accuracy scores have dropped a little after reducing the parameters but still  good model to run.**"
   ]
  },
  {
   "cell_type": "markdown",
   "metadata": {},
   "source": [
    "# Transfer Learning with 2D CNN Layer"
   ]
  },
  {
   "cell_type": "code",
   "execution_count": 8,
   "metadata": {},
   "outputs": [],
   "source": [
    "batch_size=50\n",
    "def generator(source_path, folder_list, batch_size):\n",
    "    print( 'Source path = ', source_path, '; batch size =', batch_size)\n",
    "    img_idx = np.round(np.linspace(0,29,18)).astype(int)\n",
    "    while True:\n",
    "        t = np.random.permutation(folder_list)\n",
    "        num_batches = int(len(folder_list)/batch_size)\n",
    "        for batch in range(num_batches): # we iterate over the number of batches\n",
    "            batch_data = np.zeros((batch_size,len(img_idx),100,100,3)) # x is the number of images you use for each video, (y,z) is the final size of the input images and 3 is the number of channels RGB\n",
    "            batch_labels = np.zeros((batch_size,5)) # batch_labels is the one hot representation of the output\n",
    "            for folder in range(batch_size): # iterate over the batch_size\n",
    "                imgs = os.listdir(source_path+'/'+ t[folder + (batch*batch_size)].split(';')[0]) # read all the images in the folder\n",
    "                for idx,item in enumerate(img_idx): #  Iterate iver the frames/images of a folder to read them in\n",
    "                    image = imageio.imread(source_path+'/'+ t[folder + (batch*batch_size)].strip().split(';')[0]+'/'+imgs[item]).astype(np.float32)\n",
    "                    image=resize(image,(100,100))\n",
    "                    #crop the images and resize them. Note that the images are of 2 different shape \n",
    "                    #and the conv3D will throw error if the inputs in a batch have different shapes\n",
    "                    \n",
    "                    batch_data[folder,idx,:,:,0] = (image[:,:,0])/255\n",
    "                    batch_data[folder,idx,:,:,1] = (image[:,:,1])/255\n",
    "                    batch_data[folder,idx,:,:,2] = (image[:,:,2])/255\n",
    "                    \n",
    "                batch_labels[folder, int(t[folder + (batch*batch_size)].strip().split(';')[2])] = 1\n",
    "            yield batch_data, batch_labels #you yield the batch_data and the batch_labels, remember what does yield do\n",
    "\n",
    "        \n",
    "        # write the code for the remaining data points which are left after full batches\n",
    "        if len(folder_list)%batch_size != 0:\n",
    "            batch_size = len(folder_list)%batch_size\n",
    "            batch_data = np.zeros((batch_size,len(img_idx),100,100,3)) # x is the number of images you use for each video, (y,z) is the final size of the input images and 3 is the number of channels RGB\n",
    "            batch_labels = np.zeros((batch_size,5)) # batch_labels is the one hot representation of the output\n",
    "            for folder in range(batch_size): # iterate over the batch_size\n",
    "                imgs = os.listdir(source_path+'/'+ t[folder + (batch*batch_size)].split(';')[0]) # read all the images in the folder\n",
    "                for idx,item in enumerate(img_idx): #  Iterate iver the frames/images of a folder to read them in\n",
    "                    image = imageio.imread(source_path+'/'+ t[folder + (batch*batch_size)].strip().split(';')[0]+'/'+imgs[item]).astype(np.float32)\n",
    "                    image=resize(image,(100,100))\n",
    "                    #crop the images and resize them. Note that the images are of 2 different shape \n",
    "                    #and the conv3D will throw error if the inputs in a batch have different shapes\n",
    "                    \n",
    "                    batch_data[folder,idx,:,:,0] = (image[:,:,0])/255\n",
    "                    batch_data[folder,idx,:,:,1] = (image[:,:,1])/255\n",
    "                    batch_data[folder,idx,:,:,2] = (image[:,:,2])/255\n",
    "                    \n",
    "                batch_labels[folder, int(t[folder + (batch*batch_size)].strip().split(';')[2])] = 1\n",
    "            yield batch_data, batch_labels #you yield the batch_data and the batch_labels, remember what does yield do"
   ]
  },
  {
   "cell_type": "markdown",
   "metadata": {},
   "source": [
    "Note here that a video is represented above in the generator as (number of images, height, width, number of channels). Take this into consideration while creating the model architecture."
   ]
  },
  {
   "cell_type": "code",
   "execution_count": 13,
   "metadata": {},
   "outputs": [
    {
     "name": "stdout",
     "output_type": "stream",
     "text": [
      "# training sequences = 663\n",
      "# validation sequences = 100\n",
      "# epochs = 30\n"
     ]
    }
   ],
   "source": [
    "import datetime\n",
    "curr_dt_time = datetime.datetime.now()\n",
    "train_path = (r'D:\\Upgrad Data Science PGDDS\\Course 4 Deep Learning\\Module 6 Deep Learning Case Study\\Project_data\\train')\n",
    "val_path = (r'D:\\Upgrad Data Science PGDDS\\Course 4 Deep Learning\\Module 6 Deep Learning Case Study\\Project_data\\val')\n",
    "num_train_sequences = len(train_doc)\n",
    "print('# training sequences =', num_train_sequences)\n",
    "num_val_sequences = len(val_doc)\n",
    "print('# validation sequences =', num_val_sequences)\n",
    "num_epochs = 30\n",
    "print ('# epochs =', num_epochs)"
   ]
  },
  {
   "cell_type": "markdown",
   "metadata": {},
   "source": [
    "## Transfer Learning with LSTM"
   ]
  },
  {
   "cell_type": "code",
   "execution_count": 14,
   "metadata": {},
   "outputs": [],
   "source": [
    "from keras.models import Sequential, Model\n",
    "from keras.layers import Dense, GRU, Flatten, TimeDistributed, Flatten, BatchNormalization, Activation\n",
    "from keras.layers.convolutional import Conv3D, MaxPooling3D,Conv2D,MaxPooling2D\n",
    "from keras.callbacks import ModelCheckpoint, ReduceLROnPlateau,EarlyStopping\n",
    "from keras import optimizers\n",
    "from keras.layers import Dense, Softmax, Dropout,LSTM"
   ]
  },
  {
   "cell_type": "code",
   "execution_count": 15,
   "metadata": {},
   "outputs": [
    {
     "name": "stdout",
     "output_type": "stream",
     "text": [
      "WARNING:tensorflow:`input_shape` is undefined or non-square, or `rows` is not in [128, 160, 192, 224]. Weights for input shape (224, 224) will be loaded as the default.\n"
     ]
    }
   ],
   "source": [
    "from keras.applications import mobilenet\n",
    "\n",
    "mobilenet_transfer = mobilenet.MobileNet(weights=\"imagenet\", include_top=False)\n",
    "\n",
    "model = Sequential()\n",
    "model.add(TimeDistributed(mobilenet_transfer,input_shape=(18,100,100,3)))\n",
    "\n",
    "for layer in model.layers:\n",
    "    layer.trainable= False\n",
    "model.add(TimeDistributed(BatchNormalization()))\n",
    "model.add(TimeDistributed(MaxPooling2D((2, 2))))\n",
    "model.add(TimeDistributed(Flatten()))\n",
    "\n",
    "model.add(LSTM(256))\n",
    "model.add(Dropout(0.2))\n",
    "        \n",
    "model.add(Dense(256,activation='relu'))\n",
    "model.add(Dropout(0.2))\n",
    "        \n",
    "model.add(Dense(5, activation='softmax'))"
   ]
  },
  {
   "cell_type": "code",
   "execution_count": 16,
   "metadata": {},
   "outputs": [
    {
     "name": "stdout",
     "output_type": "stream",
     "text": [
      "Model: \"sequential_1\"\n",
      "_________________________________________________________________\n",
      "Layer (type)                 Output Shape              Param #   \n",
      "=================================================================\n",
      "time_distributed_4 (TimeDist (None, 18, 3, 3, 1024)    3228864   \n",
      "_________________________________________________________________\n",
      "time_distributed_5 (TimeDist (None, 18, 3, 3, 1024)    4096      \n",
      "_________________________________________________________________\n",
      "time_distributed_6 (TimeDist (None, 18, 1, 1, 1024)    0         \n",
      "_________________________________________________________________\n",
      "time_distributed_7 (TimeDist (None, 18, 1024)          0         \n",
      "_________________________________________________________________\n",
      "lstm_1 (LSTM)                (None, 256)               1311744   \n",
      "_________________________________________________________________\n",
      "dropout_2 (Dropout)          (None, 256)               0         \n",
      "_________________________________________________________________\n",
      "dense_2 (Dense)              (None, 256)               65792     \n",
      "_________________________________________________________________\n",
      "dropout_3 (Dropout)          (None, 256)               0         \n",
      "_________________________________________________________________\n",
      "dense_3 (Dense)              (None, 5)                 1285      \n",
      "=================================================================\n",
      "Total params: 4,611,781\n",
      "Trainable params: 1,380,869\n",
      "Non-trainable params: 3,230,912\n",
      "_________________________________________________________________\n",
      "None\n"
     ]
    }
   ],
   "source": [
    "optimiser = tf.keras.optimizers.Adam()\n",
    "model.compile(optimizer=optimiser, loss='categorical_crossentropy', metrics=['categorical_accuracy'])\n",
    "print (model.summary())"
   ]
  },
  {
   "cell_type": "markdown",
   "metadata": {},
   "source": [
    "Let us create the `train_generator` and the `val_generator` which will be used in `.fit_generator`."
   ]
  },
  {
   "cell_type": "code",
   "execution_count": 17,
   "metadata": {},
   "outputs": [],
   "source": [
    "train_generator = generator(train_path, train_doc, batch_size)\n",
    "val_generator = generator(val_path, val_doc, batch_size)"
   ]
  },
  {
   "cell_type": "code",
   "execution_count": 18,
   "metadata": {},
   "outputs": [
    {
     "name": "stdout",
     "output_type": "stream",
     "text": [
      "WARNING:tensorflow:`period` argument is deprecated. Please use `save_freq` to specify the frequency in number of batches seen.\n"
     ]
    }
   ],
   "source": [
    "model_name = 'model_init' + '_' + str(curr_dt_time).replace(' ','').replace(':','_') + '/'\n",
    "    \n",
    "if not os.path.exists(model_name):\n",
    "    os.mkdir(model_name)\n",
    "        \n",
    "filepath = model_name + 'model-{epoch:05d}-{loss:.5f}-{categorical_accuracy:.5f}-{val_loss:.5f}-{val_categorical_accuracy:.5f}.h5'\n",
    "\n",
    "checkpoint = ModelCheckpoint(filepath, monitor='val_loss', verbose=1, save_best_only=False,\n",
    "                             mode='auto', save_weights_only=False, period=1)\n",
    "LR = ReduceLROnPlateau(monitor = \"val_loss\", factor = 0.2, patience = 4,verbose = 1)\n",
    "callbacks_list = [checkpoint, LR]"
   ]
  },
  {
   "cell_type": "markdown",
   "metadata": {},
   "source": [
    "The `steps_per_epoch` and `validation_steps` are used by `fit_generator` to decide the number of next() calls it need to make."
   ]
  },
  {
   "cell_type": "code",
   "execution_count": 19,
   "metadata": {},
   "outputs": [],
   "source": [
    "if (num_train_sequences%batch_size) == 0:\n",
    "    steps_per_epoch = int(num_train_sequences/batch_size)\n",
    "else:\n",
    "    steps_per_epoch = (num_train_sequences//batch_size) + 1\n",
    "\n",
    "if (num_val_sequences%batch_size) == 0:\n",
    "    validation_steps = int(num_val_sequences/batch_size)\n",
    "else:\n",
    "    validation_steps = (num_val_sequences//batch_size) + 1"
   ]
  },
  {
   "cell_type": "markdown",
   "metadata": {},
   "source": [
    "Let us now fit the model. This will start training the model and with the help of the checkpoints, you'll be able to save the model at the end of each epoch."
   ]
  },
  {
   "cell_type": "code",
   "execution_count": 20,
   "metadata": {
    "scrolled": false
   },
   "outputs": [
    {
     "name": "stderr",
     "output_type": "stream",
     "text": [
      "C:\\Users\\deabh\\anaconda3\\envs\\tf1\\lib\\site-packages\\keras\\engine\\training.py:1972: UserWarning: `Model.fit_generator` is deprecated and will be removed in a future version. Please use `Model.fit`, which supports generators.\n",
      "  warnings.warn('`Model.fit_generator` is deprecated and '\n"
     ]
    },
    {
     "name": "stdout",
     "output_type": "stream",
     "text": [
      "Source path =  D:\\Upgrad Data Science PGDDS\\Course 4 Deep Learning\\Module 6 Deep Learning Case Study\\Project_data\\train ; batch size = 50\n",
      "Epoch 1/30\n",
      "14/14 [==============================] - ETA: 0s - loss: 1.3347 - categorical_accuracy: 0.4359 Source path =  D:\\Upgrad Data Science PGDDS\\Course 4 Deep Learning\\Module 6 Deep Learning Case Study\\Project_data\\val ; batch size = 50\n",
      "14/14 [==============================] - 209s 14s/step - loss: 1.3347 - categorical_accuracy: 0.4359 - val_loss: 0.9718 - val_categorical_accuracy: 0.6700\n",
      "\n",
      "Epoch 00001: saving model to model_init_2021-09-1615_11_43.745668\\model-00001-1.33467-0.43590-0.97185-0.67000.h5\n",
      "Epoch 2/30\n",
      "14/14 [==============================] - 76s 6s/step - loss: 0.7349 - categorical_accuracy: 0.7253 - val_loss: 1.2152 - val_categorical_accuracy: 0.4500\n",
      "\n",
      "Epoch 00002: saving model to model_init_2021-09-1615_11_43.745668\\model-00002-0.73493-0.72527-1.21524-0.45000.h5\n",
      "Epoch 3/30\n",
      "14/14 [==============================] - 85s 7s/step - loss: 0.5437 - categorical_accuracy: 0.8516 - val_loss: 0.8031 - val_categorical_accuracy: 0.6900\n",
      "\n",
      "Epoch 00003: saving model to model_init_2021-09-1615_11_43.745668\\model-00003-0.54373-0.85165-0.80307-0.69000.h5\n",
      "Epoch 4/30\n",
      "14/14 [==============================] - 77s 6s/step - loss: 0.5413 - categorical_accuracy: 0.7637 - val_loss: 0.8675 - val_categorical_accuracy: 0.6900\n",
      "\n",
      "Epoch 00004: saving model to model_init_2021-09-1615_11_43.745668\\model-00004-0.54132-0.76374-0.86749-0.69000.h5\n",
      "Epoch 5/30\n",
      "14/14 [==============================] - 76s 6s/step - loss: 0.4242 - categorical_accuracy: 0.8516 - val_loss: 0.8695 - val_categorical_accuracy: 0.6500\n",
      "\n",
      "Epoch 00005: saving model to model_init_2021-09-1615_11_43.745668\\model-00005-0.42417-0.85165-0.86947-0.65000.h5\n",
      "Epoch 6/30\n",
      "14/14 [==============================] - 76s 6s/step - loss: 0.2874 - categorical_accuracy: 0.9066 - val_loss: 0.7732 - val_categorical_accuracy: 0.7100\n",
      "\n",
      "Epoch 00006: saving model to model_init_2021-09-1615_11_43.745668\\model-00006-0.28737-0.90659-0.77324-0.71000.h5\n",
      "Epoch 7/30\n",
      "14/14 [==============================] - 77s 6s/step - loss: 0.1958 - categorical_accuracy: 0.9560 - val_loss: 0.9015 - val_categorical_accuracy: 0.7100\n",
      "\n",
      "Epoch 00007: saving model to model_init_2021-09-1615_11_43.745668\\model-00007-0.19577-0.95604-0.90151-0.71000.h5\n",
      "Epoch 8/30\n",
      "14/14 [==============================] - 82s 6s/step - loss: 0.2230 - categorical_accuracy: 0.9286 - val_loss: 0.6889 - val_categorical_accuracy: 0.8100\n",
      "\n",
      "Epoch 00008: saving model to model_init_2021-09-1615_11_43.745668\\model-00008-0.22300-0.92857-0.68893-0.81000.h5\n",
      "Epoch 9/30\n",
      "14/14 [==============================] - 91s 7s/step - loss: 0.1589 - categorical_accuracy: 0.9615 - val_loss: 0.7243 - val_categorical_accuracy: 0.8000\n",
      "\n",
      "Epoch 00009: saving model to model_init_2021-09-1615_11_43.745668\\model-00009-0.15887-0.96154-0.72429-0.80000.h5\n",
      "Epoch 10/30\n",
      "14/14 [==============================] - 75s 6s/step - loss: 0.1220 - categorical_accuracy: 0.9670 - val_loss: 0.9084 - val_categorical_accuracy: 0.7500\n",
      "\n",
      "Epoch 00010: saving model to model_init_2021-09-1615_11_43.745668\\model-00010-0.12198-0.96703-0.90838-0.75000.h5\n",
      "Epoch 11/30\n",
      "14/14 [==============================] - 77s 6s/step - loss: 0.0850 - categorical_accuracy: 0.9780 - val_loss: 0.6763 - val_categorical_accuracy: 0.8000\n",
      "\n",
      "Epoch 00011: saving model to model_init_2021-09-1615_11_43.745668\\model-00011-0.08495-0.97802-0.67630-0.80000.h5\n",
      "Epoch 12/30\n",
      "14/14 [==============================] - 75s 6s/step - loss: 0.1116 - categorical_accuracy: 0.9725 - val_loss: 0.8023 - val_categorical_accuracy: 0.8000\n",
      "\n",
      "Epoch 00012: saving model to model_init_2021-09-1615_11_43.745668\\model-00012-0.11158-0.97253-0.80230-0.80000.h5\n",
      "Epoch 13/30\n",
      "14/14 [==============================] - 82s 6s/step - loss: 0.0286 - categorical_accuracy: 1.0000 - val_loss: 0.7026 - val_categorical_accuracy: 0.8200\n",
      "\n",
      "Epoch 00013: saving model to model_init_2021-09-1615_11_43.745668\\model-00013-0.02857-1.00000-0.70260-0.82000.h5\n",
      "Epoch 14/30\n",
      "14/14 [==============================] - 75s 6s/step - loss: 0.0379 - categorical_accuracy: 1.0000 - val_loss: 0.4923 - val_categorical_accuracy: 0.8500\n",
      "\n",
      "Epoch 00014: saving model to model_init_2021-09-1615_11_43.745668\\model-00014-0.03789-1.00000-0.49229-0.85000.h5\n",
      "Epoch 15/30\n",
      "14/14 [==============================] - 76s 6s/step - loss: 0.0419 - categorical_accuracy: 0.9890 - val_loss: 0.7926 - val_categorical_accuracy: 0.7700\n",
      "\n",
      "Epoch 00015: saving model to model_init_2021-09-1615_11_43.745668\\model-00015-0.04187-0.98901-0.79260-0.77000.h5\n",
      "Epoch 16/30\n",
      "14/14 [==============================] - 77s 6s/step - loss: 0.0284 - categorical_accuracy: 0.9890 - val_loss: 0.9966 - val_categorical_accuracy: 0.7300\n",
      "\n",
      "Epoch 00016: saving model to model_init_2021-09-1615_11_43.745668\\model-00016-0.02836-0.98901-0.99660-0.73000.h5\n",
      "Epoch 17/30\n",
      "14/14 [==============================] - 76s 6s/step - loss: 0.0222 - categorical_accuracy: 0.9945 - val_loss: 0.7442 - val_categorical_accuracy: 0.7800\n",
      "\n",
      "Epoch 00017: saving model to model_init_2021-09-1615_11_43.745668\\model-00017-0.02218-0.99451-0.74419-0.78000.h5\n",
      "Epoch 18/30\n",
      "14/14 [==============================] - 77s 6s/step - loss: 0.0222 - categorical_accuracy: 0.9945 - val_loss: 0.8902 - val_categorical_accuracy: 0.7500\n",
      "\n",
      "Epoch 00018: saving model to model_init_2021-09-1615_11_43.745668\\model-00018-0.02219-0.99451-0.89024-0.75000.h5\n",
      "\n",
      "Epoch 00018: ReduceLROnPlateau reducing learning rate to 0.00020000000949949026.\n",
      "Epoch 19/30\n",
      "14/14 [==============================] - 76s 6s/step - loss: 0.0179 - categorical_accuracy: 1.0000 - val_loss: 0.8517 - val_categorical_accuracy: 0.7600\n",
      "\n",
      "Epoch 00019: saving model to model_init_2021-09-1615_11_43.745668\\model-00019-0.01792-1.00000-0.85175-0.76000.h5\n",
      "Epoch 20/30\n",
      "14/14 [==============================] - 75s 6s/step - loss: 0.0079 - categorical_accuracy: 1.0000 - val_loss: 0.6447 - val_categorical_accuracy: 0.8000\n",
      "\n",
      "Epoch 00020: saving model to model_init_2021-09-1615_11_43.745668\\model-00020-0.00794-1.00000-0.64466-0.80000.h5\n",
      "Epoch 21/30\n",
      "14/14 [==============================] - 77s 6s/step - loss: 0.0094 - categorical_accuracy: 1.0000 - val_loss: 0.8400 - val_categorical_accuracy: 0.7900\n",
      "\n",
      "Epoch 00021: saving model to model_init_2021-09-1615_11_43.745668\\model-00021-0.00940-1.00000-0.83996-0.79000.h5\n",
      "Epoch 22/30\n",
      "14/14 [==============================] - 99s 8s/step - loss: 0.0049 - categorical_accuracy: 1.0000 - val_loss: 0.9661 - val_categorical_accuracy: 0.7900\n",
      "\n",
      "Epoch 00022: saving model to model_init_2021-09-1615_11_43.745668\\model-00022-0.00490-1.00000-0.96611-0.79000.h5\n",
      "\n",
      "Epoch 00022: ReduceLROnPlateau reducing learning rate to 4.0000001899898055e-05.\n",
      "Epoch 23/30\n",
      "14/14 [==============================] - 78s 6s/step - loss: 0.0094 - categorical_accuracy: 1.0000 - val_loss: 0.8299 - val_categorical_accuracy: 0.8000\n",
      "\n",
      "Epoch 00023: saving model to model_init_2021-09-1615_11_43.745668\\model-00023-0.00943-1.00000-0.82988-0.80000.h5\n",
      "Epoch 24/30\n",
      "14/14 [==============================] - 76s 6s/step - loss: 0.0056 - categorical_accuracy: 1.0000 - val_loss: 0.8574 - val_categorical_accuracy: 0.8000\n",
      "\n",
      "Epoch 00024: saving model to model_init_2021-09-1615_11_43.745668\\model-00024-0.00556-1.00000-0.85740-0.80000.h5\n",
      "Epoch 25/30\n",
      "14/14 [==============================] - 77s 6s/step - loss: 0.0078 - categorical_accuracy: 1.0000 - val_loss: 0.8260 - val_categorical_accuracy: 0.8000\n",
      "\n",
      "Epoch 00025: saving model to model_init_2021-09-1615_11_43.745668\\model-00025-0.00782-1.00000-0.82604-0.80000.h5\n",
      "Epoch 26/30\n",
      "14/14 [==============================] - 82s 6s/step - loss: 0.0192 - categorical_accuracy: 0.9945 - val_loss: 0.8572 - val_categorical_accuracy: 0.7700\n",
      "\n",
      "Epoch 00026: saving model to model_init_2021-09-1615_11_43.745668\\model-00026-0.01916-0.99451-0.85720-0.77000.h5\n",
      "\n",
      "Epoch 00026: ReduceLROnPlateau reducing learning rate to 8.000000525498762e-06.\n",
      "Epoch 27/30\n",
      "14/14 [==============================] - 79s 6s/step - loss: 0.0061 - categorical_accuracy: 1.0000 - val_loss: 0.8275 - val_categorical_accuracy: 0.8000\n",
      "\n",
      "Epoch 00027: saving model to model_init_2021-09-1615_11_43.745668\\model-00027-0.00606-1.00000-0.82750-0.80000.h5\n",
      "Epoch 28/30\n"
     ]
    },
    {
     "name": "stdout",
     "output_type": "stream",
     "text": [
      "14/14 [==============================] - 80s 6s/step - loss: 0.0080 - categorical_accuracy: 1.0000 - val_loss: 0.8346 - val_categorical_accuracy: 0.8000\n",
      "\n",
      "Epoch 00028: saving model to model_init_2021-09-1615_11_43.745668\\model-00028-0.00800-1.00000-0.83459-0.80000.h5\n",
      "Epoch 29/30\n",
      "14/14 [==============================] - 77s 6s/step - loss: 0.0151 - categorical_accuracy: 0.9945 - val_loss: 0.8228 - val_categorical_accuracy: 0.8000\n",
      "\n",
      "Epoch 00029: saving model to model_init_2021-09-1615_11_43.745668\\model-00029-0.01509-0.99451-0.82284-0.80000.h5\n",
      "Epoch 30/30\n",
      "14/14 [==============================] - 76s 6s/step - loss: 0.0095 - categorical_accuracy: 1.0000 - val_loss: 0.9725 - val_categorical_accuracy: 0.7800\n",
      "\n",
      "Epoch 00030: saving model to model_init_2021-09-1615_11_43.745668\\model-00030-0.00951-1.00000-0.97247-0.78000.h5\n",
      "\n",
      "Epoch 00030: ReduceLROnPlateau reducing learning rate to 1.6000001778593287e-06.\n"
     ]
    },
    {
     "data": {
      "text/plain": [
       "<keras.callbacks.History at 0x20f9b004190>"
      ]
     },
     "execution_count": 20,
     "metadata": {},
     "output_type": "execute_result"
    }
   ],
   "source": [
    "model.fit_generator(train_generator, steps_per_epoch=steps_per_epoch, epochs=num_epochs, verbose=1, \n",
    "                    validation_data=val_generator,callbacks=callbacks_list,\n",
    "                    validation_steps=validation_steps, class_weight=None, workers=1, initial_epoch=0)"
   ]
  },
  {
   "cell_type": "code",
   "execution_count": 21,
   "metadata": {},
   "outputs": [
    {
     "data": {
      "image/png": "[encoded data removed]",
      "text/plain": [
       "<Figure size 1080x288 with 2 Axes>"
      ]
     },
     "metadata": {
      "needs_background": "light"
     },
     "output_type": "display_data"
    }
   ],
   "source": [
    "plot(model)"
   ]
  },
  {
   "cell_type": "markdown",
   "metadata": {},
   "source": [
    "1. **This is our best model though it overfits the model. Picking up a good validation and training score .h5 model would do a good job.**\n",
    "2. **This model(MobileNet) has high accuracy and has a 100% training accuracy.**\n",
    "3. **We are gonna submit the 8th epoch h5 file because it has a training accuracy of 92% and a validation accuracy of 81% which are decent as well.**"
   ]
  },
  {
   "cell_type": "code",
   "execution_count": null,
   "metadata": {},
   "outputs": [],
   "source": []
  }
 ],
 "metadata": {
  "hide_input": false,
  "kernelspec": {
   "display_name": "TF_GPU",
   "language": "python",
   "name": "tf1"
  },
  "language_info": {
   "codemirror_mode": {
    "name": "ipython",
    "version": 3
   },
   "file_extension": ".py",
   "mimetype": "text/x-python",
   "name": "python",
   "nbconvert_exporter": "python",
   "pygments_lexer": "ipython3",
   "version": "3.8.8"
  },
  "toc": {
   "base_numbering": 1,
   "nav_menu": {},
   "number_sections": true,
   "sideBar": true,
   "skip_h1_title": false,
   "title_cell": "Table of Contents",
   "title_sidebar": "Contents",
   "toc_cell": false,
   "toc_position": {},
   "toc_section_display": true,
   "toc_window_display": false
  }
 },
 "nbformat": 4,
 "nbformat_minor": 2
}
